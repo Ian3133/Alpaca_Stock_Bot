{
 "cells": [
  {
   "cell_type": "code",
   "execution_count": 1,
   "metadata": {},
   "outputs": [
    {
     "name": "stdout",
     "output_type": "stream",
     "text": [
      "Requirement already satisfied: tensorflow in c:\\users\\hp\\appdata\\local\\packages\\pythonsoftwarefoundation.python.3.11_qbz5n2kfra8p0\\localcache\\local-packages\\python311\\site-packages (2.13.0)\n",
      "Requirement already satisfied: tensorflow-intel==2.13.0 in c:\\users\\hp\\appdata\\local\\packages\\pythonsoftwarefoundation.python.3.11_qbz5n2kfra8p0\\localcache\\local-packages\\python311\\site-packages (from tensorflow) (2.13.0)\n",
      "Requirement already satisfied: absl-py>=1.0.0 in c:\\users\\hp\\appdata\\local\\packages\\pythonsoftwarefoundation.python.3.11_qbz5n2kfra8p0\\localcache\\local-packages\\python311\\site-packages (from tensorflow-intel==2.13.0->tensorflow) (1.4.0)\n",
      "Requirement already satisfied: astunparse>=1.6.0 in c:\\users\\hp\\appdata\\local\\packages\\pythonsoftwarefoundation.python.3.11_qbz5n2kfra8p0\\localcache\\local-packages\\python311\\site-packages (from tensorflow-intel==2.13.0->tensorflow) (1.6.3)\n",
      "Requirement already satisfied: flatbuffers>=23.1.21 in c:\\users\\hp\\appdata\\local\\packages\\pythonsoftwarefoundation.python.3.11_qbz5n2kfra8p0\\localcache\\local-packages\\python311\\site-packages (from tensorflow-intel==2.13.0->tensorflow) (23.5.26)\n",
      "Requirement already satisfied: gast<=0.4.0,>=0.2.1 in c:\\users\\hp\\appdata\\local\\packages\\pythonsoftwarefoundation.python.3.11_qbz5n2kfra8p0\\localcache\\local-packages\\python311\\site-packages (from tensorflow-intel==2.13.0->tensorflow) (0.4.0)\n",
      "Requirement already satisfied: google-pasta>=0.1.1 in c:\\users\\hp\\appdata\\local\\packages\\pythonsoftwarefoundation.python.3.11_qbz5n2kfra8p0\\localcache\\local-packages\\python311\\site-packages (from tensorflow-intel==2.13.0->tensorflow) (0.2.0)\n",
      "Requirement already satisfied: h5py>=2.9.0 in c:\\users\\hp\\appdata\\local\\packages\\pythonsoftwarefoundation.python.3.11_qbz5n2kfra8p0\\localcache\\local-packages\\python311\\site-packages (from tensorflow-intel==2.13.0->tensorflow) (3.9.0)\n",
      "Requirement already satisfied: libclang>=13.0.0 in c:\\users\\hp\\appdata\\local\\packages\\pythonsoftwarefoundation.python.3.11_qbz5n2kfra8p0\\localcache\\local-packages\\python311\\site-packages (from tensorflow-intel==2.13.0->tensorflow) (16.0.0)\n",
      "Collecting numpy<=1.24.3,>=1.22 (from tensorflow-intel==2.13.0->tensorflow)\n",
      "  Downloading numpy-1.24.3-cp311-cp311-win_amd64.whl.metadata (5.6 kB)\n",
      "Requirement already satisfied: opt-einsum>=2.3.2 in c:\\users\\hp\\appdata\\local\\packages\\pythonsoftwarefoundation.python.3.11_qbz5n2kfra8p0\\localcache\\local-packages\\python311\\site-packages (from tensorflow-intel==2.13.0->tensorflow) (3.3.0)\n",
      "Requirement already satisfied: packaging in c:\\users\\hp\\appdata\\local\\packages\\pythonsoftwarefoundation.python.3.11_qbz5n2kfra8p0\\localcache\\local-packages\\python311\\site-packages (from tensorflow-intel==2.13.0->tensorflow) (23.1)\n",
      "Requirement already satisfied: protobuf!=4.21.0,!=4.21.1,!=4.21.2,!=4.21.3,!=4.21.4,!=4.21.5,<5.0.0dev,>=3.20.3 in c:\\users\\hp\\appdata\\local\\packages\\pythonsoftwarefoundation.python.3.11_qbz5n2kfra8p0\\localcache\\local-packages\\python311\\site-packages (from tensorflow-intel==2.13.0->tensorflow) (3.20.3)\n",
      "Requirement already satisfied: setuptools in c:\\users\\hp\\appdata\\local\\packages\\pythonsoftwarefoundation.python.3.11_qbz5n2kfra8p0\\localcache\\local-packages\\python311\\site-packages (from tensorflow-intel==2.13.0->tensorflow) (68.0.0)\n",
      "Requirement already satisfied: six>=1.12.0 in c:\\users\\hp\\appdata\\local\\packages\\pythonsoftwarefoundation.python.3.11_qbz5n2kfra8p0\\localcache\\local-packages\\python311\\site-packages (from tensorflow-intel==2.13.0->tensorflow) (1.16.0)\n",
      "Requirement already satisfied: termcolor>=1.1.0 in c:\\users\\hp\\appdata\\local\\packages\\pythonsoftwarefoundation.python.3.11_qbz5n2kfra8p0\\localcache\\local-packages\\python311\\site-packages (from tensorflow-intel==2.13.0->tensorflow) (2.3.0)\n",
      "Collecting typing-extensions<4.6.0,>=3.6.6 (from tensorflow-intel==2.13.0->tensorflow)\n",
      "  Downloading typing_extensions-4.5.0-py3-none-any.whl.metadata (8.5 kB)\n",
      "Requirement already satisfied: wrapt>=1.11.0 in c:\\users\\hp\\appdata\\local\\packages\\pythonsoftwarefoundation.python.3.11_qbz5n2kfra8p0\\localcache\\local-packages\\python311\\site-packages (from tensorflow-intel==2.13.0->tensorflow) (1.15.0)\n",
      "Requirement already satisfied: grpcio<2.0,>=1.24.3 in c:\\users\\hp\\appdata\\local\\packages\\pythonsoftwarefoundation.python.3.11_qbz5n2kfra8p0\\localcache\\local-packages\\python311\\site-packages (from tensorflow-intel==2.13.0->tensorflow) (1.56.0)\n",
      "Requirement already satisfied: tensorboard<2.14,>=2.13 in c:\\users\\hp\\appdata\\local\\packages\\pythonsoftwarefoundation.python.3.11_qbz5n2kfra8p0\\localcache\\local-packages\\python311\\site-packages (from tensorflow-intel==2.13.0->tensorflow) (2.13.0)\n",
      "Requirement already satisfied: tensorflow-estimator<2.14,>=2.13.0 in c:\\users\\hp\\appdata\\local\\packages\\pythonsoftwarefoundation.python.3.11_qbz5n2kfra8p0\\localcache\\local-packages\\python311\\site-packages (from tensorflow-intel==2.13.0->tensorflow) (2.13.0)\n",
      "Requirement already satisfied: keras<2.14,>=2.13.1 in c:\\users\\hp\\appdata\\local\\packages\\pythonsoftwarefoundation.python.3.11_qbz5n2kfra8p0\\localcache\\local-packages\\python311\\site-packages (from tensorflow-intel==2.13.0->tensorflow) (2.13.1)\n",
      "Requirement already satisfied: tensorflow-io-gcs-filesystem>=0.23.1 in c:\\users\\hp\\appdata\\local\\packages\\pythonsoftwarefoundation.python.3.11_qbz5n2kfra8p0\\localcache\\local-packages\\python311\\site-packages (from tensorflow-intel==2.13.0->tensorflow) (0.31.0)\n",
      "Requirement already satisfied: wheel<1.0,>=0.23.0 in c:\\users\\hp\\appdata\\local\\packages\\pythonsoftwarefoundation.python.3.11_qbz5n2kfra8p0\\localcache\\local-packages\\python311\\site-packages (from astunparse>=1.6.0->tensorflow-intel==2.13.0->tensorflow) (0.40.0)\n",
      "Requirement already satisfied: google-auth<3,>=1.6.3 in c:\\users\\hp\\appdata\\local\\packages\\pythonsoftwarefoundation.python.3.11_qbz5n2kfra8p0\\localcache\\local-packages\\python311\\site-packages (from tensorboard<2.14,>=2.13->tensorflow-intel==2.13.0->tensorflow) (2.21.0)\n",
      "Requirement already satisfied: google-auth-oauthlib<1.1,>=0.5 in c:\\users\\hp\\appdata\\local\\packages\\pythonsoftwarefoundation.python.3.11_qbz5n2kfra8p0\\localcache\\local-packages\\python311\\site-packages (from tensorboard<2.14,>=2.13->tensorflow-intel==2.13.0->tensorflow) (1.0.0)\n",
      "Requirement already satisfied: markdown>=2.6.8 in c:\\users\\hp\\appdata\\local\\packages\\pythonsoftwarefoundation.python.3.11_qbz5n2kfra8p0\\localcache\\local-packages\\python311\\site-packages (from tensorboard<2.14,>=2.13->tensorflow-intel==2.13.0->tensorflow) (3.4.3)\n",
      "Requirement already satisfied: requests<3,>=2.21.0 in c:\\users\\hp\\appdata\\local\\packages\\pythonsoftwarefoundation.python.3.11_qbz5n2kfra8p0\\localcache\\local-packages\\python311\\site-packages (from tensorboard<2.14,>=2.13->tensorflow-intel==2.13.0->tensorflow) (2.31.0)\n",
      "Requirement already satisfied: tensorboard-data-server<0.8.0,>=0.7.0 in c:\\users\\hp\\appdata\\local\\packages\\pythonsoftwarefoundation.python.3.11_qbz5n2kfra8p0\\localcache\\local-packages\\python311\\site-packages (from tensorboard<2.14,>=2.13->tensorflow-intel==2.13.0->tensorflow) (0.7.1)\n",
      "Requirement already satisfied: werkzeug>=1.0.1 in c:\\users\\hp\\appdata\\local\\packages\\pythonsoftwarefoundation.python.3.11_qbz5n2kfra8p0\\localcache\\local-packages\\python311\\site-packages (from tensorboard<2.14,>=2.13->tensorflow-intel==2.13.0->tensorflow) (2.3.6)\n",
      "Requirement already satisfied: cachetools<6.0,>=2.0.0 in c:\\users\\hp\\appdata\\local\\packages\\pythonsoftwarefoundation.python.3.11_qbz5n2kfra8p0\\localcache\\local-packages\\python311\\site-packages (from google-auth<3,>=1.6.3->tensorboard<2.14,>=2.13->tensorflow-intel==2.13.0->tensorflow) (5.3.1)\n",
      "Requirement already satisfied: pyasn1-modules>=0.2.1 in c:\\users\\hp\\appdata\\local\\packages\\pythonsoftwarefoundation.python.3.11_qbz5n2kfra8p0\\localcache\\local-packages\\python311\\site-packages (from google-auth<3,>=1.6.3->tensorboard<2.14,>=2.13->tensorflow-intel==2.13.0->tensorflow) (0.3.0)\n",
      "Requirement already satisfied: rsa<5,>=3.1.4 in c:\\users\\hp\\appdata\\local\\packages\\pythonsoftwarefoundation.python.3.11_qbz5n2kfra8p0\\localcache\\local-packages\\python311\\site-packages (from google-auth<3,>=1.6.3->tensorboard<2.14,>=2.13->tensorflow-intel==2.13.0->tensorflow) (4.9)\n",
      "Requirement already satisfied: urllib3<2.0 in c:\\users\\hp\\appdata\\local\\packages\\pythonsoftwarefoundation.python.3.11_qbz5n2kfra8p0\\localcache\\local-packages\\python311\\site-packages (from google-auth<3,>=1.6.3->tensorboard<2.14,>=2.13->tensorflow-intel==2.13.0->tensorflow) (1.26.16)\n",
      "Requirement already satisfied: requests-oauthlib>=0.7.0 in c:\\users\\hp\\appdata\\local\\packages\\pythonsoftwarefoundation.python.3.11_qbz5n2kfra8p0\\localcache\\local-packages\\python311\\site-packages (from google-auth-oauthlib<1.1,>=0.5->tensorboard<2.14,>=2.13->tensorflow-intel==2.13.0->tensorflow) (1.3.1)\n",
      "Requirement already satisfied: charset-normalizer<4,>=2 in c:\\users\\hp\\appdata\\local\\packages\\pythonsoftwarefoundation.python.3.11_qbz5n2kfra8p0\\localcache\\local-packages\\python311\\site-packages (from requests<3,>=2.21.0->tensorboard<2.14,>=2.13->tensorflow-intel==2.13.0->tensorflow) (3.2.0)\n",
      "Requirement already satisfied: idna<4,>=2.5 in c:\\users\\hp\\appdata\\local\\packages\\pythonsoftwarefoundation.python.3.11_qbz5n2kfra8p0\\localcache\\local-packages\\python311\\site-packages (from requests<3,>=2.21.0->tensorboard<2.14,>=2.13->tensorflow-intel==2.13.0->tensorflow) (3.4)\n",
      "Requirement already satisfied: certifi>=2017.4.17 in c:\\users\\hp\\appdata\\local\\packages\\pythonsoftwarefoundation.python.3.11_qbz5n2kfra8p0\\localcache\\local-packages\\python311\\site-packages (from requests<3,>=2.21.0->tensorboard<2.14,>=2.13->tensorflow-intel==2.13.0->tensorflow) (2023.5.7)\n",
      "Requirement already satisfied: MarkupSafe>=2.1.1 in c:\\users\\hp\\appdata\\local\\packages\\pythonsoftwarefoundation.python.3.11_qbz5n2kfra8p0\\localcache\\local-packages\\python311\\site-packages (from werkzeug>=1.0.1->tensorboard<2.14,>=2.13->tensorflow-intel==2.13.0->tensorflow) (2.1.3)\n",
      "Requirement already satisfied: pyasn1<0.6.0,>=0.4.6 in c:\\users\\hp\\appdata\\local\\packages\\pythonsoftwarefoundation.python.3.11_qbz5n2kfra8p0\\localcache\\local-packages\\python311\\site-packages (from pyasn1-modules>=0.2.1->google-auth<3,>=1.6.3->tensorboard<2.14,>=2.13->tensorflow-intel==2.13.0->tensorflow) (0.5.0)\n",
      "Requirement already satisfied: oauthlib>=3.0.0 in c:\\users\\hp\\appdata\\local\\packages\\pythonsoftwarefoundation.python.3.11_qbz5n2kfra8p0\\localcache\\local-packages\\python311\\site-packages (from requests-oauthlib>=0.7.0->google-auth-oauthlib<1.1,>=0.5->tensorboard<2.14,>=2.13->tensorflow-intel==2.13.0->tensorflow) (3.2.2)\n",
      "Downloading numpy-1.24.3-cp311-cp311-win_amd64.whl (14.8 MB)\n",
      "   ---------------------------------------- 0.0/14.8 MB ? eta -:--:--\n",
      "   ---------------------------------------- 0.0/14.8 MB ? eta -:--:--\n",
      "   ---------------------------------------- 0.0/14.8 MB 330.3 kB/s eta 0:00:45\n",
      "   ---------------------------------------- 0.1/14.8 MB 819.2 kB/s eta 0:00:18\n",
      "    --------------------------------------- 0.3/14.8 MB 1.9 MB/s eta 0:00:08\n",
      "   - -------------------------------------- 0.5/14.8 MB 2.6 MB/s eta 0:00:06\n",
      "   -- ------------------------------------- 0.8/14.8 MB 3.0 MB/s eta 0:00:05\n",
      "   -- ------------------------------------- 1.0/14.8 MB 3.4 MB/s eta 0:00:05\n",
      "   --- ------------------------------------ 1.3/14.8 MB 3.6 MB/s eta 0:00:04\n",
      "   ---- ----------------------------------- 1.5/14.8 MB 3.8 MB/s eta 0:00:04\n",
      "   ---- ----------------------------------- 1.7/14.8 MB 3.7 MB/s eta 0:00:04\n",
      "   ----- ---------------------------------- 1.9/14.8 MB 3.9 MB/s eta 0:00:04\n",
      "   ----- ---------------------------------- 2.0/14.8 MB 3.9 MB/s eta 0:00:04\n",
      "   ------ --------------------------------- 2.3/14.8 MB 3.9 MB/s eta 0:00:04\n",
      "   ------ --------------------------------- 2.4/14.8 MB 3.9 MB/s eta 0:00:04\n",
      "   ------- -------------------------------- 2.8/14.8 MB 4.1 MB/s eta 0:00:03\n",
      "   ------- -------------------------------- 2.9/14.8 MB 4.1 MB/s eta 0:00:03\n",
      "   -------- ------------------------------- 3.2/14.8 MB 4.1 MB/s eta 0:00:03\n",
      "   --------- ------------------------------ 3.4/14.8 MB 4.2 MB/s eta 0:00:03\n",
      "   --------- ------------------------------ 3.6/14.8 MB 4.2 MB/s eta 0:00:03\n",
      "   ---------- ----------------------------- 3.9/14.8 MB 4.2 MB/s eta 0:00:03\n",
      "   ----------- ---------------------------- 4.2/14.8 MB 4.3 MB/s eta 0:00:03\n",
      "   ----------- ---------------------------- 4.2/14.8 MB 4.3 MB/s eta 0:00:03\n",
      "   ----------- ---------------------------- 4.4/14.8 MB 4.3 MB/s eta 0:00:03\n",
      "   ------------ --------------------------- 4.6/14.8 MB 4.2 MB/s eta 0:00:03\n",
      "   ------------ --------------------------- 4.8/14.8 MB 4.2 MB/s eta 0:00:03\n",
      "   ------------- -------------------------- 5.0/14.8 MB 4.2 MB/s eta 0:00:03\n",
      "   ------------- -------------------------- 5.2/14.8 MB 4.2 MB/s eta 0:00:03\n",
      "   -------------- ------------------------- 5.4/14.8 MB 4.2 MB/s eta 0:00:03\n",
      "   --------------- ------------------------ 5.7/14.8 MB 4.2 MB/s eta 0:00:03\n",
      "   --------------- ------------------------ 5.9/14.8 MB 4.2 MB/s eta 0:00:03\n",
      "   ---------------- ----------------------- 6.1/14.8 MB 4.2 MB/s eta 0:00:03\n",
      "   ----------------- ---------------------- 6.4/14.8 MB 4.3 MB/s eta 0:00:02\n",
      "   ----------------- ---------------------- 6.6/14.8 MB 4.3 MB/s eta 0:00:02\n",
      "   ------------------ --------------------- 6.8/14.8 MB 4.3 MB/s eta 0:00:02\n",
      "   ------------------ --------------------- 7.0/14.8 MB 4.3 MB/s eta 0:00:02\n",
      "   ------------------- -------------------- 7.2/14.8 MB 4.3 MB/s eta 0:00:02\n",
      "   ------------------- -------------------- 7.4/14.8 MB 4.3 MB/s eta 0:00:02\n",
      "   -------------------- ------------------- 7.5/14.8 MB 4.3 MB/s eta 0:00:02\n",
      "   --------------------- ------------------ 7.8/14.8 MB 4.3 MB/s eta 0:00:02\n",
      "   --------------------- ------------------ 7.9/14.8 MB 4.3 MB/s eta 0:00:02\n",
      "   ---------------------- ----------------- 8.2/14.8 MB 4.3 MB/s eta 0:00:02\n",
      "   ----------------------- ---------------- 8.5/14.8 MB 4.4 MB/s eta 0:00:02\n",
      "   ----------------------- ---------------- 8.6/14.8 MB 4.4 MB/s eta 0:00:02\n",
      "   ------------------------ --------------- 9.0/14.8 MB 4.3 MB/s eta 0:00:02\n",
      "   ------------------------ --------------- 9.1/14.8 MB 4.3 MB/s eta 0:00:02\n",
      "   ------------------------- -------------- 9.3/14.8 MB 4.4 MB/s eta 0:00:02\n",
      "   -------------------------- ------------- 9.7/14.8 MB 4.4 MB/s eta 0:00:02\n",
      "   -------------------------- ------------- 9.9/14.8 MB 4.4 MB/s eta 0:00:02\n",
      "   --------------------------- ------------ 10.2/14.8 MB 4.4 MB/s eta 0:00:02\n",
      "   --------------------------- ------------ 10.3/14.8 MB 4.6 MB/s eta 0:00:01\n",
      "   ---------------------------- ----------- 10.4/14.8 MB 4.6 MB/s eta 0:00:01\n",
      "   ---------------------------- ----------- 10.7/14.8 MB 4.6 MB/s eta 0:00:01\n",
      "   ----------------------------- ---------- 11.0/14.8 MB 4.6 MB/s eta 0:00:01\n",
      "   ------------------------------ --------- 11.2/14.8 MB 4.6 MB/s eta 0:00:01\n",
      "   ------------------------------ --------- 11.5/14.8 MB 4.6 MB/s eta 0:00:01\n",
      "   ------------------------------- -------- 11.6/14.8 MB 4.6 MB/s eta 0:00:01\n",
      "   -------------------------------- ------- 12.0/14.8 MB 4.6 MB/s eta 0:00:01\n",
      "   -------------------------------- ------- 12.2/14.8 MB 4.6 MB/s eta 0:00:01\n",
      "   --------------------------------- ------ 12.4/14.8 MB 4.6 MB/s eta 0:00:01\n",
      "   ---------------------------------- ----- 12.7/14.8 MB 4.7 MB/s eta 0:00:01\n",
      "   ---------------------------------- ----- 12.8/14.8 MB 4.7 MB/s eta 0:00:01\n",
      "   ----------------------------------- ---- 13.2/14.8 MB 4.7 MB/s eta 0:00:01\n",
      "   ------------------------------------ --- 13.4/14.8 MB 4.7 MB/s eta 0:00:01\n",
      "   ------------------------------------ --- 13.5/14.8 MB 4.6 MB/s eta 0:00:01\n",
      "   ------------------------------------- -- 13.8/14.8 MB 4.7 MB/s eta 0:00:01\n",
      "   ------------------------------------- -- 14.0/14.8 MB 4.7 MB/s eta 0:00:01\n",
      "   -------------------------------------- - 14.3/14.8 MB 4.7 MB/s eta 0:00:01\n",
      "   ---------------------------------------  14.7/14.8 MB 4.8 MB/s eta 0:00:01\n",
      "   ---------------------------------------  14.8/14.8 MB 4.9 MB/s eta 0:00:01\n",
      "   ---------------------------------------  14.8/14.8 MB 4.9 MB/s eta 0:00:01\n",
      "   ---------------------------------------- 14.8/14.8 MB 4.7 MB/s eta 0:00:00\n",
      "Downloading typing_extensions-4.5.0-py3-none-any.whl (27 kB)\n",
      "Installing collected packages: typing-extensions, numpy\n",
      "  Attempting uninstall: typing-extensions\n",
      "    Found existing installation: typing_extensions 4.12.2\n",
      "    Uninstalling typing_extensions-4.12.2:\n",
      "      Successfully uninstalled typing_extensions-4.12.2\n",
      "  Attempting uninstall: numpy\n",
      "    Found existing installation: numpy 1.25.1\n",
      "    Uninstalling numpy-1.25.1:\n",
      "      Successfully uninstalled numpy-1.25.1\n",
      "Successfully installed numpy-1.24.3 typing-extensions-4.5.0\n"
     ]
    },
    {
     "name": "stderr",
     "output_type": "stream",
     "text": [
      "  WARNING: Failed to remove contents in a temporary directory 'C:\\Users\\HP\\AppData\\Local\\Packages\\PythonSoftwareFoundation.Python.3.11_qbz5n2kfra8p0\\LocalCache\\local-packages\\Python311\\site-packages\\~-mpy'.\n",
      "  You can safely remove it manually.\n",
      "ERROR: pip's dependency resolver does not currently take into account all the packages that are installed. This behaviour is the source of the following dependency conflicts.\n",
      "pydantic 2.7.3 requires typing-extensions>=4.6.1, but you have typing-extensions 4.5.0 which is incompatible.\n",
      "pydantic-core 2.18.4 requires typing-extensions!=4.7.0,>=4.6.0, but you have typing-extensions 4.5.0 which is incompatible.\n"
     ]
    }
   ],
   "source": [
    "!pip install tensorflow"
   ]
  },
  {
   "cell_type": "code",
   "execution_count": 96,
   "metadata": {},
   "outputs": [],
   "source": [
    "import tensorflow as tf\n",
    "from tensorflow.keras import layers, models\n",
    "import numpy as np  "
   ]
  },
  {
   "cell_type": "code",
   "execution_count": 97,
   "metadata": {},
   "outputs": [
    {
     "name": "stdout",
     "output_type": "stream",
     "text": [
      "[1.05, 0.35, -0.13, -0.05, 0.54, 0.47, 0.07, -0.06, 0.73, 0.37, -0.23, 0.72, -0.36, 0.08, -0.09, 0.3, -1.31, -0.15, 0.39, 0.09, 0.12, -0.22, 0.75, 0.42, -0.32, -0.19, 0.54, 0.37, -0.08, 0.55, 0.03, 0.17, -0.21, -1.29, -0.01, 0.38, 0.86, -0.23, 0.77, 0.38, -0.86, -0.49, -1.09, -0.28, -2.07, -0.68, 0.45, 0.12, -0.23, -0.08, 0.77, -2.0, 0.33, 0.12, -0.32, -0.03, 0.28, -0.46, -0.01, -0.17, -0.23, 0.91, 0.7, -0.22, -0.07, -0.39, -0.22, 0.65, 0.16, -0.73, 0.33, -0.16, -0.6, 0.05, 0.76, 0.0, 0.18, 0.05, -0.45, -0.28, 0.69, 0.36, -0.19, -0.44, 0.54, 0.36, -0.09, -0.04, 0.47, 0.04, 0.36, 0.09, -0.23, 0.96, 0.94, -1.17, 0.07, 0.73, -0.04, 0.09, -0.5, 0.18, -0.12, 1.0, 0.52, 0.1, -0.07, -0.24, -0.26, 0.51, 0.43, 1.32, 0.09, -0.22, -0.35, 0.1, -0.25, -0.04, 0.23, 0.33, -0.04, 0.29, -1.2, 0.49, 0.21, -0.03, -0.1, 1.29, 0.54, 0.5, 0.6, 0.29, -0.88, 0.29, 0.24, 0.73, 0.2, -0.56, 0.19, -0.04, 0.05, 0.01, 0.02, 0.83, 0.12, 0.22, -0.1, 0.54, 0.22, 1.06, -1.05, -0.07, 0.28, 0.05, 0.36, 0.98, 0.83, 0.49, 0.49, -0.85, -0.94, -1.03, 0.23, 0.2, -1.12, -1.05, -0.92, 0.74, 0.51, -0.85, -0.75, 0.16]\n",
      "[0.35, 0.71, -0.31, -0.05, -0.96, -1.32, 0.77, 0.8, 2.53, -1.75, -4.26, 0.15, -0.68, -1.39, 1.29, 3.07, -5.73, -1.13, 0.4, 0.47, -2.35, 1.06, 2.62, 1.81, -0.48, -1.53, -0.48, 0.14, -1.21, 1.75, 1.24, 0.45, -2.59, -1.4, 0.7, 2.05, 3.09, -3.08, 0.41, 0.33, -3.27, -0.28, -6.07, 0.73, -2.5, -0.76, 1.76, 0.26, 0.33, 1.01, 1.38, -9.34, 1.82, -0.43, 1.8, 0.57, -0.21, -0.93, 3.31, 1.38, -3.92, -1.26, -0.95, -1.36, 3.37, -3.04, -1.98, 1.12, -2.28, -2.82, -0.54, 0.1, 2.31, 0.1, 2.39, 7.07, 0.16, 1.18, -1.55, -2.94, 5.0, 0.95, -3.18, -2.02, -1.33, 3.01, 2.14, -0.45, 0.87, -0.58, 0.87, -3.04, -2.71, 2.23, 0.71, 1.18, -2.31, -0.53, 1.12, -1.68, 3.33, 1.15, -3.56, 5.08, -2.12, 1.09, 5.57, -1.0, -0.34, -1.02, 2.27, 4.15, 1.32, 1.27, -0.29, -3.95, -1.4, 1.34, 0.93, 2.38, -0.63, 1.28, -2.54, 1.14, -0.18, -0.27, -0.64, 0.16, 4.05, 2.95, -0.48, 6.28, -3.21, 0.81, -0.99, 1.26, -1.98, -0.1, 0.02, 0.48, 0.23, 2.09, -1.14, 0.69, 0.82, 2.24, -2.11, 0.15, -1.31, 3.71, -0.53, 0.04, 1.42, -0.75, 2.93, -0.12, 9.6, 2.35, 0.04, 0.66, -2.42, -4.35, 0.69, -0.8, -0.46, -1.36, -1.17, 1.55, 0.99, -3.28, 0.36, -0.76]\n"
     ]
    },
    {
     "data": {
      "text/plain": [
       "165"
      ]
     },
     "execution_count": 97,
     "metadata": {},
     "output_type": "execute_result"
    }
   ],
   "source": [
    "import csv\n",
    "path_spy = \"Stocks/SPY.csv\"\n",
    "path_stock = \"Stocks/AMD.csv\"\n",
    "\n",
    "# need to pull SPY and var -- stock \n",
    "stock = \"AMD\"\n",
    "\n",
    "SPY_array = []\n",
    "AMD_array = []\n",
    "\n",
    "with open(path_spy, mode='r', newline='') as spy:\n",
    "    with open(path_stock, mode='r', newline='') as stock:\n",
    "        spy_reader = csv.reader(spy)\n",
    "        stock_reader = csv.reader(stock)\n",
    "        while(True):\n",
    "            spy_reader = next(csv.reader(spy))[1]\n",
    "            stock_reader = next(csv.reader(stock))[1]\n",
    "            if stock_reader == \"--\":\n",
    "                break\n",
    "            SPY_array.append(round(float(spy_reader) , 2))\n",
    "            AMD_array.append(round(float(stock_reader) , 2))\n",
    "                \n",
    "            \n",
    "print(SPY_array)    \n",
    "print(AMD_array)\n",
    "\n",
    "len(AMD_array)-7\n",
    "\n",
    "            # for i in range(5):\n",
    "            #     spy_reader = next(csv.reader(spy))\n",
    "            #     stock_reader = next(csv.reader(stock))\n",
    "            # for i in range(7): \n",
    "            #     date = next(csv.reader(spy))[0]\n",
    "            #     spy_reader = next(csv.reader(spy))[1]\n",
    "            #     stock_reader = next(csv.reader(stock))[1]\n",
    "            #     print(f\"SPY on {date} = {round(float(spy_reader), 2)}\")\n",
    "            #     print(f\"AMD on {date} = {round(float(stock_reader), 2)}\")\n",
    "                \n",
    "        \n",
    "    # API_KEY = next(csv_reader)[0]\n",
    "    # ALPACA_API_SECRET_KEY = next(csv_reader)[0]\n",
    "    # TWELVE_DATA_KEY = next(csv_reader)[0]"
   ]
  },
  {
   "cell_type": "code",
   "execution_count": 125,
   "metadata": {},
   "outputs": [
    {
     "name": "stdout",
     "output_type": "stream",
     "text": [
      "(100, 14)\n",
      "[[ 0.18  0.05 -0.45 ...  5.    0.95 -3.18]\n",
      " [ 0.12 -0.32 -0.03 ... -0.93  3.31  1.38]\n",
      " [ 0.09 -0.23  0.96 ...  1.18 -2.31 -0.53]\n",
      " ...\n",
      " [ 0.19 -0.04  0.05 ... -1.14  0.69  0.82]\n",
      " [ 0.69  0.36 -0.19 ... -1.33  3.01  2.14]\n",
      " [ 1.05  0.35 -0.13 ... -0.96 -1.32  0.77]]\n",
      "(100,)\n",
      "[0. 0. 0. 1. 1. 0. 0. 1. 0. 0. 1. 0. 1. 0. 0. 0. 1. 0. 1. 0. 0. 1. 0. 0.\n",
      " 0. 0. 0. 0. 1. 0. 0. 0. 1. 1. 1. 0. 1. 0. 1. 1. 1. 1. 0. 1. 1. 1. 0. 1.\n",
      " 1. 0. 0. 1. 1. 1. 1. 1. 0. 1. 0. 1. 1. 0. 0. 1. 0. 1. 1. 0. 1. 1. 1. 0.\n",
      " 0. 0. 0. 1. 1. 0. 1. 0. 0. 1. 1. 0. 1. 1. 0. 0. 1. 0. 1. 1. 1. 0. 1. 0.\n",
      " 0. 0. 1. 1.]\n"
     ]
    }
   ],
   "source": [
    "import random\n",
    "import numpy as np\n",
    "\n",
    "# Example arrays for SPY_array and AMD_array\n",
    "# SPY_array = np.random.rand(100)  # Replace with your actual data\n",
    "# AMD_array = np.random.rand(100)  # Replace with your actual data\n",
    "\n",
    "# Create an array of zeros with shape (100, 14)\n",
    "x_train = np.zeros((100, 14))\n",
    "y_train = np.zeros(100)\n",
    "\n",
    "for i in range(100):\n",
    "    random_num = random.randint(0, len(AMD_array) - 8)\n",
    "    x_train[i, :7] = SPY_array[random_num:random_num + 7]\n",
    "    x_train[i, 7:14] = AMD_array[random_num:random_num + 7]\n",
    "    if (AMD_array[random_num+8] > 0.0): \n",
    "        y_train[i] = 1\n",
    "    else:\n",
    "        y_train[i] = 0\n",
    "    \n",
    "\n",
    "print(x_train.shape)\n",
    "print(x_train)\n",
    "print(y_train.shape)\n",
    "print(y_train)\n",
    "\n",
    "\n",
    "\n",
    "\n",
    "\n",
    "\n"
   ]
  },
  {
   "cell_type": "code",
   "execution_count": 4,
   "metadata": {},
   "outputs": [
    {
     "name": "stdout",
     "output_type": "stream",
     "text": [
      "Shape of x_train: (10000, 20)\n",
      "Shape of y_train: (10000,)\n",
      "Shape of x_test: (2000, 20)\n",
      "Shape of y_test: (2000,)\n"
     ]
    }
   ],
   "source": [
    "num_samples = 10000\n",
    "num_features = 14\n",
    "num_classes = 3\n",
    "\n",
    "x_train = np.random.rand(num_samples, num_features)\n",
    "y_train = np.random.randint(num_classes, size=num_samples)\n",
    "\n",
    "x_test = np.random.rand(int(num_samples * 0.2), num_features)\n",
    "y_test = np.random.randint(num_classes, size=int(num_samples * 0.2))\n",
    "\n",
    "print(\"Shape of x_train:\", x_train.shape)\n",
    "print(\"Shape of y_train:\", y_train.shape)\n",
    "print(\"Shape of x_test:\", x_test.shape)\n",
    "print(\"Shape of y_test:\", y_test.shape)"
   ]
  },
  {
   "cell_type": "code",
   "execution_count": 126,
   "metadata": {},
   "outputs": [],
   "source": [
    "model = models.Sequential([\n",
    "    layers.Dense(64, activation='relu', input_shape=(14,)),   # changed 100 from num samples \n",
    "    layers.Dense(64, activation='relu'),\n",
    "    layers.Dense(2, activation='softmax')\n",
    "])"
   ]
  },
  {
   "cell_type": "code",
   "execution_count": 127,
   "metadata": {},
   "outputs": [],
   "source": [
    "model.compile(optimizer='adam',\n",
    "              loss='sparse_categorical_crossentropy',\n",
    "              metrics=['accuracy'])"
   ]
  },
  {
   "cell_type": "code",
   "execution_count": 130,
   "metadata": {},
   "outputs": [
    {
     "name": "stdout",
     "output_type": "stream",
     "text": [
      "Epoch 1/10\n",
      "4/4 [==============================] - 0s 35ms/step - loss: 0.0298 - accuracy: 1.0000 - val_loss: 0.0291 - val_accuracy: 1.0000\n",
      "Epoch 2/10\n",
      "4/4 [==============================] - 0s 16ms/step - loss: 0.0289 - accuracy: 1.0000 - val_loss: 0.0283 - val_accuracy: 1.0000\n",
      "Epoch 3/10\n",
      "4/4 [==============================] - 0s 17ms/step - loss: 0.0281 - accuracy: 1.0000 - val_loss: 0.0277 - val_accuracy: 1.0000\n",
      "Epoch 4/10\n",
      "4/4 [==============================] - 0s 16ms/step - loss: 0.0276 - accuracy: 1.0000 - val_loss: 0.0272 - val_accuracy: 1.0000\n",
      "Epoch 5/10\n",
      "4/4 [==============================] - 0s 12ms/step - loss: 0.0271 - accuracy: 1.0000 - val_loss: 0.0267 - val_accuracy: 1.0000\n",
      "Epoch 6/10\n",
      "4/4 [==============================] - 0s 17ms/step - loss: 0.0266 - accuracy: 1.0000 - val_loss: 0.0260 - val_accuracy: 1.0000\n",
      "Epoch 7/10\n",
      "4/4 [==============================] - 0s 16ms/step - loss: 0.0258 - accuracy: 1.0000 - val_loss: 0.0252 - val_accuracy: 1.0000\n",
      "Epoch 8/10\n",
      "4/4 [==============================] - 0s 15ms/step - loss: 0.0250 - accuracy: 1.0000 - val_loss: 0.0244 - val_accuracy: 1.0000\n",
      "Epoch 9/10\n",
      "4/4 [==============================] - 0s 18ms/step - loss: 0.0242 - accuracy: 1.0000 - val_loss: 0.0237 - val_accuracy: 1.0000\n",
      "Epoch 10/10\n",
      "4/4 [==============================] - 0s 17ms/step - loss: 0.0235 - accuracy: 1.0000 - val_loss: 0.0230 - val_accuracy: 1.0000\n"
     ]
    },
    {
     "data": {
      "text/plain": [
       "<keras.src.callbacks.History at 0x1f39daba5d0>"
      ]
     },
     "execution_count": 130,
     "metadata": {},
     "output_type": "execute_result"
    }
   ],
   "source": [
    "model.fit(x_train, y_train, epochs=10, validation_data=(x_train, y_train))  # change back the validation_data x_train to x_test same for y_train\n"
   ]
  },
  {
   "cell_type": "code",
   "execution_count": 8,
   "metadata": {},
   "outputs": [
    {
     "name": "stdout",
     "output_type": "stream",
     "text": [
      "63/63 [==============================] - 0s 2ms/step - loss: 1.1080 - accuracy: 0.3440\n",
      "Test accuracy: 0.3440000116825104\n"
     ]
    }
   ],
   "source": [
    "test_loss, test_acc = model.evaluate(x_test, y_test)\n",
    "print(f\"Test accuracy: {test_acc}\")\n"
   ]
  },
  {
   "cell_type": "code",
   "execution_count": null,
   "metadata": {},
   "outputs": [],
   "source": [
    "model.save('synthetic_model.h5')\n"
   ]
  }
 ],
 "metadata": {
  "kernelspec": {
   "display_name": "Python 3",
   "language": "python",
   "name": "python3"
  },
  "language_info": {
   "codemirror_mode": {
    "name": "ipython",
    "version": 3
   },
   "file_extension": ".py",
   "mimetype": "text/x-python",
   "name": "python",
   "nbconvert_exporter": "python",
   "pygments_lexer": "ipython3",
   "version": "3.11.9"
  }
 },
 "nbformat": 4,
 "nbformat_minor": 2
}
