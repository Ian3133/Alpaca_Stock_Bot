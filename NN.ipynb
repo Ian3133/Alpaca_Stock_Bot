{
 "cells": [
  {
   "cell_type": "code",
   "execution_count": null,
   "metadata": {},
   "outputs": [],
   "source": [
    "%pip install tensorflow"
   ]
  },
  {
   "cell_type": "code",
   "execution_count": 104,
   "metadata": {},
   "outputs": [
    {
     "ename": "ImportError",
     "evalue": "cannot import name 'create_t_and_t' from 'functions' (c:\\Users\\HP\\Desktop\\Other\\Alpaca\\Alpaca_stock_data\\functions.py)",
     "output_type": "error",
     "traceback": [
      "\u001b[1;31m---------------------------------------------------------------------------\u001b[0m",
      "\u001b[1;31mImportError\u001b[0m                               Traceback (most recent call last)",
      "Cell \u001b[1;32mIn[104], line 5\u001b[0m\n\u001b[0;32m      3\u001b[0m \u001b[38;5;28;01mimport\u001b[39;00m \u001b[38;5;21;01mnumpy\u001b[39;00m \u001b[38;5;28;01mas\u001b[39;00m \u001b[38;5;21;01mnp\u001b[39;00m  \n\u001b[0;32m      4\u001b[0m \u001b[38;5;28;01mimport\u001b[39;00m \u001b[38;5;21;01mcsv\u001b[39;00m\n\u001b[1;32m----> 5\u001b[0m \u001b[38;5;28;01mfrom\u001b[39;00m \u001b[38;5;21;01mfunctions\u001b[39;00m \u001b[38;5;28;01mimport\u001b[39;00m connect, get_array, create_data, create_t_and_t\n\u001b[0;32m      6\u001b[0m data_client \u001b[38;5;241m=\u001b[39m connect()\n",
      "\u001b[1;31mImportError\u001b[0m: cannot import name 'create_t_and_t' from 'functions' (c:\\Users\\HP\\Desktop\\Other\\Alpaca\\Alpaca_stock_data\\functions.py)"
     ]
    }
   ],
   "source": [
    "import tensorflow as tf\n",
    "from tensorflow.keras import layers, models\n",
    "import numpy as np  \n",
    "import csv\n",
    "from functions import connect, get_array, create_data\n",
    "data_client = connect()"
   ]
  },
  {
   "cell_type": "code",
   "execution_count": null,
   "metadata": {},
   "outputs": [],
   "source": [
    "stock = \"AMD\"\n",
    "\n",
    "'''below are finding for the number of when create_data works and doesnt 6/24'''\n",
    "#create_data(\"SPY\", 1055, data_client)    # on 6/24 (monday) test: 100- 106 works. 107-111 doesn't work\n",
    "# 112 - 113 works   114 - 118 doesnt work     | 119 - 120 works (swaps a few more times very quickly?)\n",
    "\n",
    "create_data(stock, 1055, data_client)"
   ]
  },
  {
   "cell_type": "code",
   "execution_count": null,
   "metadata": {},
   "outputs": [],
   "source": [
    "SPY_array = get_array(\"SPY\")\n",
    "stock_array = get_array(stock)"
   ]
  },
  {
   "cell_type": "code",
   "execution_count": 99,
   "metadata": {},
   "outputs": [],
   "source": [
    "import random\n",
    "def create_t_and_t(num, stock_array, SPY_array):\n",
    "    '''Creates the input for a NN x_,y_traing and x_,y_test. right now randomly selects from 80% sampling instead of a single run through all -- could change'''\n",
    "    x_train = np.zeros((num, 14))\n",
    "    y_train = np.zeros(num)\n",
    "    x_test = np.zeros((len(stock_array) - int(len(stock_array)*.8), 14))\n",
    "    y_test = np.zeros(len(stock_array) - int(len(stock_array)*.8))\n",
    "\n",
    "\n",
    "\n",
    "    for i in range(num):\n",
    "        random_num = random.randint(0, int(len(stock_array)*.8) - 8)\n",
    "        x_train[i, :7] = SPY_array[random_num:random_num + 7]\n",
    "        x_train[i, 7:14] = stock_array[random_num:random_num + 7]\n",
    "        if (stock_array[random_num+8] > 0.0): \n",
    "            y_train[i] = 1\n",
    "        else:\n",
    "            y_train[i] = 0\n",
    "    for i in range(int(len(stock_array) *.8), len(stock_array)):\n",
    "        k = i - int(len(stock_array) *.8)\n",
    "        x_test[k, :7] = SPY_array[k:k + 7]\n",
    "        x_test[k, 7:14] = stock_array[k:k + 7]\n",
    "        if (stock_array[k+8] > 0.0): \n",
    "            y_test[k] = 1\n",
    "        else:\n",
    "            y_test[k] = 0\n",
    "    return x_train, y_train, x_test, y_test"
   ]
  },
  {
   "cell_type": "code",
   "execution_count": 101,
   "metadata": {},
   "outputs": [
    {
     "name": "stdout",
     "output_type": "stream",
     "text": [
      "(2050, 14)\n",
      "(2050,)\n"
     ]
    }
   ],
   "source": [
    "\n",
    "\n",
    "x_train, y_train, x_test, y_test = create_t_and_t(2050, stock_array, SPY_array)\n",
    "print(x_train.shape)   # train on x percent of stocks?\n",
    "# print(x_train)\n",
    "print(y_train.shape)\n",
    "# print(y_train)\n",
    "\n"
   ]
  },
  {
   "cell_type": "code",
   "execution_count": null,
   "metadata": {},
   "outputs": [],
   "source": [
    "# num_samples = 10000\n",
    "# num_features = 14\n",
    "# num_classes = 3\n",
    "\n",
    "# x_train = np.random.rand(num_samples, num_features)\n",
    "# y_train = np.random.randint(num_classes, size=num_samples)\n",
    "\n",
    "# x_test = np.random.rand(int(num_samples * 0.2), num_features)\n",
    "# y_test = np.random.randint(num_classes, size=int(num_samples * 0.2))\n",
    "\n",
    "# print(\"Shape of x_train:\", x_train.shape)\n",
    "# print(\"Shape of y_train:\", y_train.shape)\n",
    "# print(\"Shape of x_test:\", x_test.shape)\n",
    "# print(\"Shape of y_test:\", y_test.shape)"
   ]
  },
  {
   "cell_type": "code",
   "execution_count": null,
   "metadata": {},
   "outputs": [],
   "source": [
    "model = models.Sequential([\n",
    "    layers.Dense(64, activation='relu', input_shape=(14,)),   # changed 100 from num samples \n",
    "    layers.Dense(64, activation='relu'),\n",
    "    layers.Dense(2, activation='softmax')\n",
    "])"
   ]
  },
  {
   "cell_type": "code",
   "execution_count": null,
   "metadata": {},
   "outputs": [],
   "source": [
    "model.compile(optimizer='adam',\n",
    "              loss='sparse_categorical_crossentropy',\n",
    "              metrics=['accuracy'])"
   ]
  },
  {
   "cell_type": "code",
   "execution_count": null,
   "metadata": {},
   "outputs": [],
   "source": [
    "model.fit(x_train, y_train, epochs=100, validation_data=(x_test, y_test))  # change back the validation_data x_train to x_test same for y_train\n"
   ]
  },
  {
   "cell_type": "code",
   "execution_count": null,
   "metadata": {},
   "outputs": [],
   "source": [
    "test_loss, test_acc = model.evaluate(x_test, y_test)\n",
    "print(f\"Test accuracy: {test_acc}\")\n"
   ]
  },
  {
   "cell_type": "code",
   "execution_count": null,
   "metadata": {},
   "outputs": [],
   "source": [
    "# running once\n",
    "new_input = np.array([x_train[0]])  # 1 sample, 14 features\n",
    "\n",
    "print(new_input)\n",
    "print(np.array([x_train[1]]))\n",
    "\n",
    "#new_input = np.array(x_train[1])\n",
    "# Make a prediction\n",
    "prediction = model.predict(new_input)\n",
    "print(prediction)"
   ]
  },
  {
   "cell_type": "code",
   "execution_count": null,
   "metadata": {},
   "outputs": [],
   "source": [
    "model.save('synthetic_model.h5')\n"
   ]
  }
 ],
 "metadata": {
  "kernelspec": {
   "display_name": "Python 3",
   "language": "python",
   "name": "python3"
  },
  "language_info": {
   "codemirror_mode": {
    "name": "ipython",
    "version": 3
   },
   "file_extension": ".py",
   "mimetype": "text/x-python",
   "name": "python",
   "nbconvert_exporter": "python",
   "pygments_lexer": "ipython3",
   "version": "3.11.9"
  }
 },
 "nbformat": 4,
 "nbformat_minor": 2
}
