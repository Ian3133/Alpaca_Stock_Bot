{
 "cells": [
  {
   "cell_type": "code",
   "execution_count": 1,
   "metadata": {},
   "outputs": [
    {
     "name": "stdout",
     "output_type": "stream",
     "text": [
      "Requirement already satisfied: tensorflow in c:\\users\\hp\\appdata\\local\\packages\\pythonsoftwarefoundation.python.3.11_qbz5n2kfra8p0\\localcache\\local-packages\\python311\\site-packages (2.13.0)\n",
      "Requirement already satisfied: tensorflow-intel==2.13.0 in c:\\users\\hp\\appdata\\local\\packages\\pythonsoftwarefoundation.python.3.11_qbz5n2kfra8p0\\localcache\\local-packages\\python311\\site-packages (from tensorflow) (2.13.0)\n",
      "Requirement already satisfied: absl-py>=1.0.0 in c:\\users\\hp\\appdata\\local\\packages\\pythonsoftwarefoundation.python.3.11_qbz5n2kfra8p0\\localcache\\local-packages\\python311\\site-packages (from tensorflow-intel==2.13.0->tensorflow) (1.4.0)\n",
      "Requirement already satisfied: astunparse>=1.6.0 in c:\\users\\hp\\appdata\\local\\packages\\pythonsoftwarefoundation.python.3.11_qbz5n2kfra8p0\\localcache\\local-packages\\python311\\site-packages (from tensorflow-intel==2.13.0->tensorflow) (1.6.3)\n",
      "Requirement already satisfied: flatbuffers>=23.1.21 in c:\\users\\hp\\appdata\\local\\packages\\pythonsoftwarefoundation.python.3.11_qbz5n2kfra8p0\\localcache\\local-packages\\python311\\site-packages (from tensorflow-intel==2.13.0->tensorflow) (23.5.26)\n",
      "Requirement already satisfied: gast<=0.4.0,>=0.2.1 in c:\\users\\hp\\appdata\\local\\packages\\pythonsoftwarefoundation.python.3.11_qbz5n2kfra8p0\\localcache\\local-packages\\python311\\site-packages (from tensorflow-intel==2.13.0->tensorflow) (0.4.0)\n",
      "Requirement already satisfied: google-pasta>=0.1.1 in c:\\users\\hp\\appdata\\local\\packages\\pythonsoftwarefoundation.python.3.11_qbz5n2kfra8p0\\localcache\\local-packages\\python311\\site-packages (from tensorflow-intel==2.13.0->tensorflow) (0.2.0)\n",
      "Requirement already satisfied: h5py>=2.9.0 in c:\\users\\hp\\appdata\\local\\packages\\pythonsoftwarefoundation.python.3.11_qbz5n2kfra8p0\\localcache\\local-packages\\python311\\site-packages (from tensorflow-intel==2.13.0->tensorflow) (3.9.0)\n",
      "Requirement already satisfied: libclang>=13.0.0 in c:\\users\\hp\\appdata\\local\\packages\\pythonsoftwarefoundation.python.3.11_qbz5n2kfra8p0\\localcache\\local-packages\\python311\\site-packages (from tensorflow-intel==2.13.0->tensorflow) (16.0.0)\n",
      "Collecting numpy<=1.24.3,>=1.22 (from tensorflow-intel==2.13.0->tensorflow)\n",
      "  Downloading numpy-1.24.3-cp311-cp311-win_amd64.whl.metadata (5.6 kB)\n",
      "Requirement already satisfied: opt-einsum>=2.3.2 in c:\\users\\hp\\appdata\\local\\packages\\pythonsoftwarefoundation.python.3.11_qbz5n2kfra8p0\\localcache\\local-packages\\python311\\site-packages (from tensorflow-intel==2.13.0->tensorflow) (3.3.0)\n",
      "Requirement already satisfied: packaging in c:\\users\\hp\\appdata\\local\\packages\\pythonsoftwarefoundation.python.3.11_qbz5n2kfra8p0\\localcache\\local-packages\\python311\\site-packages (from tensorflow-intel==2.13.0->tensorflow) (23.1)\n",
      "Requirement already satisfied: protobuf!=4.21.0,!=4.21.1,!=4.21.2,!=4.21.3,!=4.21.4,!=4.21.5,<5.0.0dev,>=3.20.3 in c:\\users\\hp\\appdata\\local\\packages\\pythonsoftwarefoundation.python.3.11_qbz5n2kfra8p0\\localcache\\local-packages\\python311\\site-packages (from tensorflow-intel==2.13.0->tensorflow) (3.20.3)\n",
      "Requirement already satisfied: setuptools in c:\\users\\hp\\appdata\\local\\packages\\pythonsoftwarefoundation.python.3.11_qbz5n2kfra8p0\\localcache\\local-packages\\python311\\site-packages (from tensorflow-intel==2.13.0->tensorflow) (68.0.0)\n",
      "Requirement already satisfied: six>=1.12.0 in c:\\users\\hp\\appdata\\local\\packages\\pythonsoftwarefoundation.python.3.11_qbz5n2kfra8p0\\localcache\\local-packages\\python311\\site-packages (from tensorflow-intel==2.13.0->tensorflow) (1.16.0)\n",
      "Requirement already satisfied: termcolor>=1.1.0 in c:\\users\\hp\\appdata\\local\\packages\\pythonsoftwarefoundation.python.3.11_qbz5n2kfra8p0\\localcache\\local-packages\\python311\\site-packages (from tensorflow-intel==2.13.0->tensorflow) (2.3.0)\n",
      "Collecting typing-extensions<4.6.0,>=3.6.6 (from tensorflow-intel==2.13.0->tensorflow)\n",
      "  Downloading typing_extensions-4.5.0-py3-none-any.whl.metadata (8.5 kB)\n",
      "Requirement already satisfied: wrapt>=1.11.0 in c:\\users\\hp\\appdata\\local\\packages\\pythonsoftwarefoundation.python.3.11_qbz5n2kfra8p0\\localcache\\local-packages\\python311\\site-packages (from tensorflow-intel==2.13.0->tensorflow) (1.15.0)\n",
      "Requirement already satisfied: grpcio<2.0,>=1.24.3 in c:\\users\\hp\\appdata\\local\\packages\\pythonsoftwarefoundation.python.3.11_qbz5n2kfra8p0\\localcache\\local-packages\\python311\\site-packages (from tensorflow-intel==2.13.0->tensorflow) (1.56.0)\n",
      "Requirement already satisfied: tensorboard<2.14,>=2.13 in c:\\users\\hp\\appdata\\local\\packages\\pythonsoftwarefoundation.python.3.11_qbz5n2kfra8p0\\localcache\\local-packages\\python311\\site-packages (from tensorflow-intel==2.13.0->tensorflow) (2.13.0)\n",
      "Requirement already satisfied: tensorflow-estimator<2.14,>=2.13.0 in c:\\users\\hp\\appdata\\local\\packages\\pythonsoftwarefoundation.python.3.11_qbz5n2kfra8p0\\localcache\\local-packages\\python311\\site-packages (from tensorflow-intel==2.13.0->tensorflow) (2.13.0)\n",
      "Requirement already satisfied: keras<2.14,>=2.13.1 in c:\\users\\hp\\appdata\\local\\packages\\pythonsoftwarefoundation.python.3.11_qbz5n2kfra8p0\\localcache\\local-packages\\python311\\site-packages (from tensorflow-intel==2.13.0->tensorflow) (2.13.1)\n",
      "Requirement already satisfied: tensorflow-io-gcs-filesystem>=0.23.1 in c:\\users\\hp\\appdata\\local\\packages\\pythonsoftwarefoundation.python.3.11_qbz5n2kfra8p0\\localcache\\local-packages\\python311\\site-packages (from tensorflow-intel==2.13.0->tensorflow) (0.31.0)\n",
      "Requirement already satisfied: wheel<1.0,>=0.23.0 in c:\\users\\hp\\appdata\\local\\packages\\pythonsoftwarefoundation.python.3.11_qbz5n2kfra8p0\\localcache\\local-packages\\python311\\site-packages (from astunparse>=1.6.0->tensorflow-intel==2.13.0->tensorflow) (0.40.0)\n",
      "Requirement already satisfied: google-auth<3,>=1.6.3 in c:\\users\\hp\\appdata\\local\\packages\\pythonsoftwarefoundation.python.3.11_qbz5n2kfra8p0\\localcache\\local-packages\\python311\\site-packages (from tensorboard<2.14,>=2.13->tensorflow-intel==2.13.0->tensorflow) (2.21.0)\n",
      "Requirement already satisfied: google-auth-oauthlib<1.1,>=0.5 in c:\\users\\hp\\appdata\\local\\packages\\pythonsoftwarefoundation.python.3.11_qbz5n2kfra8p0\\localcache\\local-packages\\python311\\site-packages (from tensorboard<2.14,>=2.13->tensorflow-intel==2.13.0->tensorflow) (1.0.0)\n",
      "Requirement already satisfied: markdown>=2.6.8 in c:\\users\\hp\\appdata\\local\\packages\\pythonsoftwarefoundation.python.3.11_qbz5n2kfra8p0\\localcache\\local-packages\\python311\\site-packages (from tensorboard<2.14,>=2.13->tensorflow-intel==2.13.0->tensorflow) (3.4.3)\n",
      "Requirement already satisfied: requests<3,>=2.21.0 in c:\\users\\hp\\appdata\\local\\packages\\pythonsoftwarefoundation.python.3.11_qbz5n2kfra8p0\\localcache\\local-packages\\python311\\site-packages (from tensorboard<2.14,>=2.13->tensorflow-intel==2.13.0->tensorflow) (2.31.0)\n",
      "Requirement already satisfied: tensorboard-data-server<0.8.0,>=0.7.0 in c:\\users\\hp\\appdata\\local\\packages\\pythonsoftwarefoundation.python.3.11_qbz5n2kfra8p0\\localcache\\local-packages\\python311\\site-packages (from tensorboard<2.14,>=2.13->tensorflow-intel==2.13.0->tensorflow) (0.7.1)\n",
      "Requirement already satisfied: werkzeug>=1.0.1 in c:\\users\\hp\\appdata\\local\\packages\\pythonsoftwarefoundation.python.3.11_qbz5n2kfra8p0\\localcache\\local-packages\\python311\\site-packages (from tensorboard<2.14,>=2.13->tensorflow-intel==2.13.0->tensorflow) (2.3.6)\n",
      "Requirement already satisfied: cachetools<6.0,>=2.0.0 in c:\\users\\hp\\appdata\\local\\packages\\pythonsoftwarefoundation.python.3.11_qbz5n2kfra8p0\\localcache\\local-packages\\python311\\site-packages (from google-auth<3,>=1.6.3->tensorboard<2.14,>=2.13->tensorflow-intel==2.13.0->tensorflow) (5.3.1)\n",
      "Requirement already satisfied: pyasn1-modules>=0.2.1 in c:\\users\\hp\\appdata\\local\\packages\\pythonsoftwarefoundation.python.3.11_qbz5n2kfra8p0\\localcache\\local-packages\\python311\\site-packages (from google-auth<3,>=1.6.3->tensorboard<2.14,>=2.13->tensorflow-intel==2.13.0->tensorflow) (0.3.0)\n",
      "Requirement already satisfied: rsa<5,>=3.1.4 in c:\\users\\hp\\appdata\\local\\packages\\pythonsoftwarefoundation.python.3.11_qbz5n2kfra8p0\\localcache\\local-packages\\python311\\site-packages (from google-auth<3,>=1.6.3->tensorboard<2.14,>=2.13->tensorflow-intel==2.13.0->tensorflow) (4.9)\n",
      "Requirement already satisfied: urllib3<2.0 in c:\\users\\hp\\appdata\\local\\packages\\pythonsoftwarefoundation.python.3.11_qbz5n2kfra8p0\\localcache\\local-packages\\python311\\site-packages (from google-auth<3,>=1.6.3->tensorboard<2.14,>=2.13->tensorflow-intel==2.13.0->tensorflow) (1.26.16)\n",
      "Requirement already satisfied: requests-oauthlib>=0.7.0 in c:\\users\\hp\\appdata\\local\\packages\\pythonsoftwarefoundation.python.3.11_qbz5n2kfra8p0\\localcache\\local-packages\\python311\\site-packages (from google-auth-oauthlib<1.1,>=0.5->tensorboard<2.14,>=2.13->tensorflow-intel==2.13.0->tensorflow) (1.3.1)\n",
      "Requirement already satisfied: charset-normalizer<4,>=2 in c:\\users\\hp\\appdata\\local\\packages\\pythonsoftwarefoundation.python.3.11_qbz5n2kfra8p0\\localcache\\local-packages\\python311\\site-packages (from requests<3,>=2.21.0->tensorboard<2.14,>=2.13->tensorflow-intel==2.13.0->tensorflow) (3.2.0)\n",
      "Requirement already satisfied: idna<4,>=2.5 in c:\\users\\hp\\appdata\\local\\packages\\pythonsoftwarefoundation.python.3.11_qbz5n2kfra8p0\\localcache\\local-packages\\python311\\site-packages (from requests<3,>=2.21.0->tensorboard<2.14,>=2.13->tensorflow-intel==2.13.0->tensorflow) (3.4)\n",
      "Requirement already satisfied: certifi>=2017.4.17 in c:\\users\\hp\\appdata\\local\\packages\\pythonsoftwarefoundation.python.3.11_qbz5n2kfra8p0\\localcache\\local-packages\\python311\\site-packages (from requests<3,>=2.21.0->tensorboard<2.14,>=2.13->tensorflow-intel==2.13.0->tensorflow) (2023.5.7)\n",
      "Requirement already satisfied: MarkupSafe>=2.1.1 in c:\\users\\hp\\appdata\\local\\packages\\pythonsoftwarefoundation.python.3.11_qbz5n2kfra8p0\\localcache\\local-packages\\python311\\site-packages (from werkzeug>=1.0.1->tensorboard<2.14,>=2.13->tensorflow-intel==2.13.0->tensorflow) (2.1.3)\n",
      "Requirement already satisfied: pyasn1<0.6.0,>=0.4.6 in c:\\users\\hp\\appdata\\local\\packages\\pythonsoftwarefoundation.python.3.11_qbz5n2kfra8p0\\localcache\\local-packages\\python311\\site-packages (from pyasn1-modules>=0.2.1->google-auth<3,>=1.6.3->tensorboard<2.14,>=2.13->tensorflow-intel==2.13.0->tensorflow) (0.5.0)\n",
      "Requirement already satisfied: oauthlib>=3.0.0 in c:\\users\\hp\\appdata\\local\\packages\\pythonsoftwarefoundation.python.3.11_qbz5n2kfra8p0\\localcache\\local-packages\\python311\\site-packages (from requests-oauthlib>=0.7.0->google-auth-oauthlib<1.1,>=0.5->tensorboard<2.14,>=2.13->tensorflow-intel==2.13.0->tensorflow) (3.2.2)\n",
      "Downloading numpy-1.24.3-cp311-cp311-win_amd64.whl (14.8 MB)\n",
      "   ---------------------------------------- 0.0/14.8 MB ? eta -:--:--\n",
      "   ---------------------------------------- 0.0/14.8 MB ? eta -:--:--\n",
      "   ---------------------------------------- 0.0/14.8 MB 330.3 kB/s eta 0:00:45\n",
      "   ---------------------------------------- 0.1/14.8 MB 819.2 kB/s eta 0:00:18\n",
      "    --------------------------------------- 0.3/14.8 MB 1.9 MB/s eta 0:00:08\n",
      "   - -------------------------------------- 0.5/14.8 MB 2.6 MB/s eta 0:00:06\n",
      "   -- ------------------------------------- 0.8/14.8 MB 3.0 MB/s eta 0:00:05\n",
      "   -- ------------------------------------- 1.0/14.8 MB 3.4 MB/s eta 0:00:05\n",
      "   --- ------------------------------------ 1.3/14.8 MB 3.6 MB/s eta 0:00:04\n",
      "   ---- ----------------------------------- 1.5/14.8 MB 3.8 MB/s eta 0:00:04\n",
      "   ---- ----------------------------------- 1.7/14.8 MB 3.7 MB/s eta 0:00:04\n",
      "   ----- ---------------------------------- 1.9/14.8 MB 3.9 MB/s eta 0:00:04\n",
      "   ----- ---------------------------------- 2.0/14.8 MB 3.9 MB/s eta 0:00:04\n",
      "   ------ --------------------------------- 2.3/14.8 MB 3.9 MB/s eta 0:00:04\n",
      "   ------ --------------------------------- 2.4/14.8 MB 3.9 MB/s eta 0:00:04\n",
      "   ------- -------------------------------- 2.8/14.8 MB 4.1 MB/s eta 0:00:03\n",
      "   ------- -------------------------------- 2.9/14.8 MB 4.1 MB/s eta 0:00:03\n",
      "   -------- ------------------------------- 3.2/14.8 MB 4.1 MB/s eta 0:00:03\n",
      "   --------- ------------------------------ 3.4/14.8 MB 4.2 MB/s eta 0:00:03\n",
      "   --------- ------------------------------ 3.6/14.8 MB 4.2 MB/s eta 0:00:03\n",
      "   ---------- ----------------------------- 3.9/14.8 MB 4.2 MB/s eta 0:00:03\n",
      "   ----------- ---------------------------- 4.2/14.8 MB 4.3 MB/s eta 0:00:03\n",
      "   ----------- ---------------------------- 4.2/14.8 MB 4.3 MB/s eta 0:00:03\n",
      "   ----------- ---------------------------- 4.4/14.8 MB 4.3 MB/s eta 0:00:03\n",
      "   ------------ --------------------------- 4.6/14.8 MB 4.2 MB/s eta 0:00:03\n",
      "   ------------ --------------------------- 4.8/14.8 MB 4.2 MB/s eta 0:00:03\n",
      "   ------------- -------------------------- 5.0/14.8 MB 4.2 MB/s eta 0:00:03\n",
      "   ------------- -------------------------- 5.2/14.8 MB 4.2 MB/s eta 0:00:03\n",
      "   -------------- ------------------------- 5.4/14.8 MB 4.2 MB/s eta 0:00:03\n",
      "   --------------- ------------------------ 5.7/14.8 MB 4.2 MB/s eta 0:00:03\n",
      "   --------------- ------------------------ 5.9/14.8 MB 4.2 MB/s eta 0:00:03\n",
      "   ---------------- ----------------------- 6.1/14.8 MB 4.2 MB/s eta 0:00:03\n",
      "   ----------------- ---------------------- 6.4/14.8 MB 4.3 MB/s eta 0:00:02\n",
      "   ----------------- ---------------------- 6.6/14.8 MB 4.3 MB/s eta 0:00:02\n",
      "   ------------------ --------------------- 6.8/14.8 MB 4.3 MB/s eta 0:00:02\n",
      "   ------------------ --------------------- 7.0/14.8 MB 4.3 MB/s eta 0:00:02\n",
      "   ------------------- -------------------- 7.2/14.8 MB 4.3 MB/s eta 0:00:02\n",
      "   ------------------- -------------------- 7.4/14.8 MB 4.3 MB/s eta 0:00:02\n",
      "   -------------------- ------------------- 7.5/14.8 MB 4.3 MB/s eta 0:00:02\n",
      "   --------------------- ------------------ 7.8/14.8 MB 4.3 MB/s eta 0:00:02\n",
      "   --------------------- ------------------ 7.9/14.8 MB 4.3 MB/s eta 0:00:02\n",
      "   ---------------------- ----------------- 8.2/14.8 MB 4.3 MB/s eta 0:00:02\n",
      "   ----------------------- ---------------- 8.5/14.8 MB 4.4 MB/s eta 0:00:02\n",
      "   ----------------------- ---------------- 8.6/14.8 MB 4.4 MB/s eta 0:00:02\n",
      "   ------------------------ --------------- 9.0/14.8 MB 4.3 MB/s eta 0:00:02\n",
      "   ------------------------ --------------- 9.1/14.8 MB 4.3 MB/s eta 0:00:02\n",
      "   ------------------------- -------------- 9.3/14.8 MB 4.4 MB/s eta 0:00:02\n",
      "   -------------------------- ------------- 9.7/14.8 MB 4.4 MB/s eta 0:00:02\n",
      "   -------------------------- ------------- 9.9/14.8 MB 4.4 MB/s eta 0:00:02\n",
      "   --------------------------- ------------ 10.2/14.8 MB 4.4 MB/s eta 0:00:02\n",
      "   --------------------------- ------------ 10.3/14.8 MB 4.6 MB/s eta 0:00:01\n",
      "   ---------------------------- ----------- 10.4/14.8 MB 4.6 MB/s eta 0:00:01\n",
      "   ---------------------------- ----------- 10.7/14.8 MB 4.6 MB/s eta 0:00:01\n",
      "   ----------------------------- ---------- 11.0/14.8 MB 4.6 MB/s eta 0:00:01\n",
      "   ------------------------------ --------- 11.2/14.8 MB 4.6 MB/s eta 0:00:01\n",
      "   ------------------------------ --------- 11.5/14.8 MB 4.6 MB/s eta 0:00:01\n",
      "   ------------------------------- -------- 11.6/14.8 MB 4.6 MB/s eta 0:00:01\n",
      "   -------------------------------- ------- 12.0/14.8 MB 4.6 MB/s eta 0:00:01\n",
      "   -------------------------------- ------- 12.2/14.8 MB 4.6 MB/s eta 0:00:01\n",
      "   --------------------------------- ------ 12.4/14.8 MB 4.6 MB/s eta 0:00:01\n",
      "   ---------------------------------- ----- 12.7/14.8 MB 4.7 MB/s eta 0:00:01\n",
      "   ---------------------------------- ----- 12.8/14.8 MB 4.7 MB/s eta 0:00:01\n",
      "   ----------------------------------- ---- 13.2/14.8 MB 4.7 MB/s eta 0:00:01\n",
      "   ------------------------------------ --- 13.4/14.8 MB 4.7 MB/s eta 0:00:01\n",
      "   ------------------------------------ --- 13.5/14.8 MB 4.6 MB/s eta 0:00:01\n",
      "   ------------------------------------- -- 13.8/14.8 MB 4.7 MB/s eta 0:00:01\n",
      "   ------------------------------------- -- 14.0/14.8 MB 4.7 MB/s eta 0:00:01\n",
      "   -------------------------------------- - 14.3/14.8 MB 4.7 MB/s eta 0:00:01\n",
      "   ---------------------------------------  14.7/14.8 MB 4.8 MB/s eta 0:00:01\n",
      "   ---------------------------------------  14.8/14.8 MB 4.9 MB/s eta 0:00:01\n",
      "   ---------------------------------------  14.8/14.8 MB 4.9 MB/s eta 0:00:01\n",
      "   ---------------------------------------- 14.8/14.8 MB 4.7 MB/s eta 0:00:00\n",
      "Downloading typing_extensions-4.5.0-py3-none-any.whl (27 kB)\n",
      "Installing collected packages: typing-extensions, numpy\n",
      "  Attempting uninstall: typing-extensions\n",
      "    Found existing installation: typing_extensions 4.12.2\n",
      "    Uninstalling typing_extensions-4.12.2:\n",
      "      Successfully uninstalled typing_extensions-4.12.2\n",
      "  Attempting uninstall: numpy\n",
      "    Found existing installation: numpy 1.25.1\n",
      "    Uninstalling numpy-1.25.1:\n",
      "      Successfully uninstalled numpy-1.25.1\n",
      "Successfully installed numpy-1.24.3 typing-extensions-4.5.0\n"
     ]
    },
    {
     "name": "stderr",
     "output_type": "stream",
     "text": [
      "  WARNING: Failed to remove contents in a temporary directory 'C:\\Users\\HP\\AppData\\Local\\Packages\\PythonSoftwareFoundation.Python.3.11_qbz5n2kfra8p0\\LocalCache\\local-packages\\Python311\\site-packages\\~-mpy'.\n",
      "  You can safely remove it manually.\n",
      "ERROR: pip's dependency resolver does not currently take into account all the packages that are installed. This behaviour is the source of the following dependency conflicts.\n",
      "pydantic 2.7.3 requires typing-extensions>=4.6.1, but you have typing-extensions 4.5.0 which is incompatible.\n",
      "pydantic-core 2.18.4 requires typing-extensions!=4.7.0,>=4.6.0, but you have typing-extensions 4.5.0 which is incompatible.\n"
     ]
    }
   ],
   "source": [
    "!pip install tensorflow"
   ]
  },
  {
   "cell_type": "code",
   "execution_count": 3,
   "metadata": {},
   "outputs": [],
   "source": [
    "import tensorflow as tf\n",
    "from tensorflow.keras import layers, models\n",
    "import numpy as np  "
   ]
  },
  {
   "cell_type": "code",
   "execution_count": 4,
   "metadata": {},
   "outputs": [
    {
     "name": "stdout",
     "output_type": "stream",
     "text": [
      "Shape of x_train: (10000, 20)\n",
      "Shape of y_train: (10000,)\n",
      "Shape of x_test: (2000, 20)\n",
      "Shape of y_test: (2000,)\n"
     ]
    }
   ],
   "source": [
    "num_samples = 10000\n",
    "num_features = 14\n",
    "num_classes = 3\n",
    "\n",
    "x_train = np.random.rand(num_samples, num_features)\n",
    "y_train = np.random.randint(num_classes, size=num_samples)\n",
    "\n",
    "x_test = np.random.rand(int(num_samples * 0.2), num_features)\n",
    "y_test = np.random.randint(num_classes, size=int(num_samples * 0.2))\n",
    "\n",
    "print(\"Shape of x_train:\", x_train.shape)\n",
    "print(\"Shape of y_train:\", y_train.shape)\n",
    "print(\"Shape of x_test:\", x_test.shape)\n",
    "print(\"Shape of y_test:\", y_test.shape)"
   ]
  },
  {
   "cell_type": "code",
   "execution_count": 5,
   "metadata": {},
   "outputs": [],
   "source": [
    "model = models.Sequential([\n",
    "    layers.Dense(64, activation='relu', input_shape=(num_features,)),\n",
    "    layers.Dense(64, activation='relu'),\n",
    "    layers.Dense(num_classes, activation='softmax')\n",
    "])"
   ]
  },
  {
   "cell_type": "code",
   "execution_count": 6,
   "metadata": {},
   "outputs": [],
   "source": [
    "model.compile(optimizer='adam',\n",
    "              loss='sparse_categorical_crossentropy',\n",
    "              metrics=['accuracy'])"
   ]
  },
  {
   "cell_type": "code",
   "execution_count": 7,
   "metadata": {},
   "outputs": [
    {
     "name": "stdout",
     "output_type": "stream",
     "text": [
      "Epoch 1/10\n",
      "313/313 [==============================] - 2s 3ms/step - loss: 1.1013 - accuracy: 0.3442 - val_loss: 1.1024 - val_accuracy: 0.3325\n",
      "Epoch 2/10\n",
      "313/313 [==============================] - 1s 3ms/step - loss: 1.0986 - accuracy: 0.3449 - val_loss: 1.1073 - val_accuracy: 0.3370\n",
      "Epoch 3/10\n",
      "313/313 [==============================] - 1s 2ms/step - loss: 1.0976 - accuracy: 0.3513 - val_loss: 1.0993 - val_accuracy: 0.3465\n",
      "Epoch 4/10\n",
      "313/313 [==============================] - 1s 2ms/step - loss: 1.0958 - accuracy: 0.3606 - val_loss: 1.0994 - val_accuracy: 0.3395\n",
      "Epoch 5/10\n",
      "313/313 [==============================] - 1s 2ms/step - loss: 1.0949 - accuracy: 0.3700 - val_loss: 1.1014 - val_accuracy: 0.3340\n",
      "Epoch 6/10\n",
      "313/313 [==============================] - 1s 2ms/step - loss: 1.0937 - accuracy: 0.3749 - val_loss: 1.1019 - val_accuracy: 0.3405\n",
      "Epoch 7/10\n",
      "313/313 [==============================] - 1s 3ms/step - loss: 1.0912 - accuracy: 0.3770 - val_loss: 1.1050 - val_accuracy: 0.3345\n",
      "Epoch 8/10\n",
      "313/313 [==============================] - 1s 2ms/step - loss: 1.0904 - accuracy: 0.3803 - val_loss: 1.1054 - val_accuracy: 0.3380\n",
      "Epoch 9/10\n",
      "313/313 [==============================] - 1s 2ms/step - loss: 1.0871 - accuracy: 0.3874 - val_loss: 1.1047 - val_accuracy: 0.3370\n",
      "Epoch 10/10\n",
      "313/313 [==============================] - 1s 2ms/step - loss: 1.0857 - accuracy: 0.3872 - val_loss: 1.1080 - val_accuracy: 0.3440\n"
     ]
    },
    {
     "data": {
      "text/plain": [
       "<keras.src.callbacks.History at 0x26ec05affd0>"
      ]
     },
     "execution_count": 7,
     "metadata": {},
     "output_type": "execute_result"
    }
   ],
   "source": [
    "model.fit(x_train, y_train, epochs=10, validation_data=(x_test, y_test))\n"
   ]
  },
  {
   "cell_type": "code",
   "execution_count": 8,
   "metadata": {},
   "outputs": [
    {
     "name": "stdout",
     "output_type": "stream",
     "text": [
      "63/63 [==============================] - 0s 2ms/step - loss: 1.1080 - accuracy: 0.3440\n",
      "Test accuracy: 0.3440000116825104\n"
     ]
    }
   ],
   "source": [
    "test_loss, test_acc = model.evaluate(x_test, y_test)\n",
    "print(f\"Test accuracy: {test_acc}\")\n"
   ]
  },
  {
   "cell_type": "code",
   "execution_count": null,
   "metadata": {},
   "outputs": [],
   "source": [
    "model.save('synthetic_model.h5')\n"
   ]
  }
 ],
 "metadata": {
  "kernelspec": {
   "display_name": "Python 3",
   "language": "python",
   "name": "python3"
  },
  "language_info": {
   "codemirror_mode": {
    "name": "ipython",
    "version": 3
   },
   "file_extension": ".py",
   "mimetype": "text/x-python",
   "name": "python",
   "nbconvert_exporter": "python",
   "pygments_lexer": "ipython3",
   "version": "3.11.9"
  }
 },
 "nbformat": 4,
 "nbformat_minor": 2
}
