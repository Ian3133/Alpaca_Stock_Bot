{
 "cells": [
  {
   "cell_type": "code",
   "execution_count": 19,
   "metadata": {},
   "outputs": [
    {
     "name": "stdout",
     "output_type": "stream",
     "text": [
      "Requirement already satisfied: tensorflow in c:\\users\\hp\\appdata\\local\\packages\\pythonsoftwarefoundation.python.3.11_qbz5n2kfra8p0\\localcache\\local-packages\\python311\\site-packages (2.13.0)Note: you may need to restart the kernel to use updated packages.\n",
      "\n",
      "Requirement already satisfied: tensorflow-intel==2.13.0 in c:\\users\\hp\\appdata\\local\\packages\\pythonsoftwarefoundation.python.3.11_qbz5n2kfra8p0\\localcache\\local-packages\\python311\\site-packages (from tensorflow) (2.13.0)\n",
      "Requirement already satisfied: absl-py>=1.0.0 in c:\\users\\hp\\appdata\\local\\packages\\pythonsoftwarefoundation.python.3.11_qbz5n2kfra8p0\\localcache\\local-packages\\python311\\site-packages (from tensorflow-intel==2.13.0->tensorflow) (1.4.0)\n",
      "Requirement already satisfied: astunparse>=1.6.0 in c:\\users\\hp\\appdata\\local\\packages\\pythonsoftwarefoundation.python.3.11_qbz5n2kfra8p0\\localcache\\local-packages\\python311\\site-packages (from tensorflow-intel==2.13.0->tensorflow) (1.6.3)\n",
      "Requirement already satisfied: flatbuffers>=23.1.21 in c:\\users\\hp\\appdata\\local\\packages\\pythonsoftwarefoundation.python.3.11_qbz5n2kfra8p0\\localcache\\local-packages\\python311\\site-packages (from tensorflow-intel==2.13.0->tensorflow) (23.5.26)\n",
      "Requirement already satisfied: gast<=0.4.0,>=0.2.1 in c:\\users\\hp\\appdata\\local\\packages\\pythonsoftwarefoundation.python.3.11_qbz5n2kfra8p0\\localcache\\local-packages\\python311\\site-packages (from tensorflow-intel==2.13.0->tensorflow) (0.4.0)\n",
      "Requirement already satisfied: google-pasta>=0.1.1 in c:\\users\\hp\\appdata\\local\\packages\\pythonsoftwarefoundation.python.3.11_qbz5n2kfra8p0\\localcache\\local-packages\\python311\\site-packages (from tensorflow-intel==2.13.0->tensorflow) (0.2.0)\n",
      "Requirement already satisfied: h5py>=2.9.0 in c:\\users\\hp\\appdata\\local\\packages\\pythonsoftwarefoundation.python.3.11_qbz5n2kfra8p0\\localcache\\local-packages\\python311\\site-packages (from tensorflow-intel==2.13.0->tensorflow) (3.9.0)\n",
      "Requirement already satisfied: libclang>=13.0.0 in c:\\users\\hp\\appdata\\local\\packages\\pythonsoftwarefoundation.python.3.11_qbz5n2kfra8p0\\localcache\\local-packages\\python311\\site-packages (from tensorflow-intel==2.13.0->tensorflow) (16.0.0)\n",
      "Requirement already satisfied: numpy<=1.24.3,>=1.22 in c:\\users\\hp\\appdata\\local\\packages\\pythonsoftwarefoundation.python.3.11_qbz5n2kfra8p0\\localcache\\local-packages\\python311\\site-packages (from tensorflow-intel==2.13.0->tensorflow) (1.24.3)\n",
      "Requirement already satisfied: opt-einsum>=2.3.2 in c:\\users\\hp\\appdata\\local\\packages\\pythonsoftwarefoundation.python.3.11_qbz5n2kfra8p0\\localcache\\local-packages\\python311\\site-packages (from tensorflow-intel==2.13.0->tensorflow) (3.3.0)\n",
      "Requirement already satisfied: packaging in c:\\users\\hp\\appdata\\local\\packages\\pythonsoftwarefoundation.python.3.11_qbz5n2kfra8p0\\localcache\\local-packages\\python311\\site-packages (from tensorflow-intel==2.13.0->tensorflow) (23.1)\n",
      "Requirement already satisfied: protobuf!=4.21.0,!=4.21.1,!=4.21.2,!=4.21.3,!=4.21.4,!=4.21.5,<5.0.0dev,>=3.20.3 in c:\\users\\hp\\appdata\\local\\packages\\pythonsoftwarefoundation.python.3.11_qbz5n2kfra8p0\\localcache\\local-packages\\python311\\site-packages (from tensorflow-intel==2.13.0->tensorflow) (3.20.3)\n",
      "Requirement already satisfied: setuptools in c:\\users\\hp\\appdata\\local\\packages\\pythonsoftwarefoundation.python.3.11_qbz5n2kfra8p0\\localcache\\local-packages\\python311\\site-packages (from tensorflow-intel==2.13.0->tensorflow) (68.0.0)\n",
      "Requirement already satisfied: six>=1.12.0 in c:\\users\\hp\\appdata\\local\\packages\\pythonsoftwarefoundation.python.3.11_qbz5n2kfra8p0\\localcache\\local-packages\\python311\\site-packages (from tensorflow-intel==2.13.0->tensorflow) (1.16.0)\n",
      "Requirement already satisfied: termcolor>=1.1.0 in c:\\users\\hp\\appdata\\local\\packages\\pythonsoftwarefoundation.python.3.11_qbz5n2kfra8p0\\localcache\\local-packages\\python311\\site-packages (from tensorflow-intel==2.13.0->tensorflow) (2.3.0)\n",
      "Collecting typing-extensions<4.6.0,>=3.6.6 (from tensorflow-intel==2.13.0->tensorflow)\n",
      "  Using cached typing_extensions-4.5.0-py3-none-any.whl.metadata (8.5 kB)\n",
      "Requirement already satisfied: wrapt>=1.11.0 in c:\\users\\hp\\appdata\\local\\packages\\pythonsoftwarefoundation.python.3.11_qbz5n2kfra8p0\\localcache\\local-packages\\python311\\site-packages (from tensorflow-intel==2.13.0->tensorflow) (1.15.0)\n",
      "Requirement already satisfied: grpcio<2.0,>=1.24.3 in c:\\users\\hp\\appdata\\local\\packages\\pythonsoftwarefoundation.python.3.11_qbz5n2kfra8p0\\localcache\\local-packages\\python311\\site-packages (from tensorflow-intel==2.13.0->tensorflow) (1.56.0)\n",
      "Requirement already satisfied: tensorboard<2.14,>=2.13 in c:\\users\\hp\\appdata\\local\\packages\\pythonsoftwarefoundation.python.3.11_qbz5n2kfra8p0\\localcache\\local-packages\\python311\\site-packages (from tensorflow-intel==2.13.0->tensorflow) (2.13.0)\n",
      "Requirement already satisfied: tensorflow-estimator<2.14,>=2.13.0 in c:\\users\\hp\\appdata\\local\\packages\\pythonsoftwarefoundation.python.3.11_qbz5n2kfra8p0\\localcache\\local-packages\\python311\\site-packages (from tensorflow-intel==2.13.0->tensorflow) (2.13.0)\n",
      "Requirement already satisfied: keras<2.14,>=2.13.1 in c:\\users\\hp\\appdata\\local\\packages\\pythonsoftwarefoundation.python.3.11_qbz5n2kfra8p0\\localcache\\local-packages\\python311\\site-packages (from tensorflow-intel==2.13.0->tensorflow) (2.13.1)\n",
      "Requirement already satisfied: tensorflow-io-gcs-filesystem>=0.23.1 in c:\\users\\hp\\appdata\\local\\packages\\pythonsoftwarefoundation.python.3.11_qbz5n2kfra8p0\\localcache\\local-packages\\python311\\site-packages (from tensorflow-intel==2.13.0->tensorflow) (0.31.0)\n",
      "Requirement already satisfied: wheel<1.0,>=0.23.0 in c:\\users\\hp\\appdata\\local\\packages\\pythonsoftwarefoundation.python.3.11_qbz5n2kfra8p0\\localcache\\local-packages\\python311\\site-packages (from astunparse>=1.6.0->tensorflow-intel==2.13.0->tensorflow) (0.40.0)\n",
      "Requirement already satisfied: google-auth<3,>=1.6.3 in c:\\users\\hp\\appdata\\local\\packages\\pythonsoftwarefoundation.python.3.11_qbz5n2kfra8p0\\localcache\\local-packages\\python311\\site-packages (from tensorboard<2.14,>=2.13->tensorflow-intel==2.13.0->tensorflow) (2.21.0)\n",
      "Requirement already satisfied: google-auth-oauthlib<1.1,>=0.5 in c:\\users\\hp\\appdata\\local\\packages\\pythonsoftwarefoundation.python.3.11_qbz5n2kfra8p0\\localcache\\local-packages\\python311\\site-packages (from tensorboard<2.14,>=2.13->tensorflow-intel==2.13.0->tensorflow) (1.0.0)\n",
      "Requirement already satisfied: markdown>=2.6.8 in c:\\users\\hp\\appdata\\local\\packages\\pythonsoftwarefoundation.python.3.11_qbz5n2kfra8p0\\localcache\\local-packages\\python311\\site-packages (from tensorboard<2.14,>=2.13->tensorflow-intel==2.13.0->tensorflow) (3.4.3)\n",
      "Requirement already satisfied: requests<3,>=2.21.0 in c:\\users\\hp\\appdata\\local\\packages\\pythonsoftwarefoundation.python.3.11_qbz5n2kfra8p0\\localcache\\local-packages\\python311\\site-packages (from tensorboard<2.14,>=2.13->tensorflow-intel==2.13.0->tensorflow) (2.31.0)\n",
      "Requirement already satisfied: tensorboard-data-server<0.8.0,>=0.7.0 in c:\\users\\hp\\appdata\\local\\packages\\pythonsoftwarefoundation.python.3.11_qbz5n2kfra8p0\\localcache\\local-packages\\python311\\site-packages (from tensorboard<2.14,>=2.13->tensorflow-intel==2.13.0->tensorflow) (0.7.1)\n",
      "Requirement already satisfied: werkzeug>=1.0.1 in c:\\users\\hp\\appdata\\local\\packages\\pythonsoftwarefoundation.python.3.11_qbz5n2kfra8p0\\localcache\\local-packages\\python311\\site-packages (from tensorboard<2.14,>=2.13->tensorflow-intel==2.13.0->tensorflow) (2.3.6)\n",
      "Requirement already satisfied: cachetools<6.0,>=2.0.0 in c:\\users\\hp\\appdata\\local\\packages\\pythonsoftwarefoundation.python.3.11_qbz5n2kfra8p0\\localcache\\local-packages\\python311\\site-packages (from google-auth<3,>=1.6.3->tensorboard<2.14,>=2.13->tensorflow-intel==2.13.0->tensorflow) (5.3.1)\n",
      "Requirement already satisfied: pyasn1-modules>=0.2.1 in c:\\users\\hp\\appdata\\local\\packages\\pythonsoftwarefoundation.python.3.11_qbz5n2kfra8p0\\localcache\\local-packages\\python311\\site-packages (from google-auth<3,>=1.6.3->tensorboard<2.14,>=2.13->tensorflow-intel==2.13.0->tensorflow) (0.3.0)\n",
      "Requirement already satisfied: rsa<5,>=3.1.4 in c:\\users\\hp\\appdata\\local\\packages\\pythonsoftwarefoundation.python.3.11_qbz5n2kfra8p0\\localcache\\local-packages\\python311\\site-packages (from google-auth<3,>=1.6.3->tensorboard<2.14,>=2.13->tensorflow-intel==2.13.0->tensorflow) (4.9)\n",
      "Requirement already satisfied: urllib3<2.0 in c:\\users\\hp\\appdata\\local\\packages\\pythonsoftwarefoundation.python.3.11_qbz5n2kfra8p0\\localcache\\local-packages\\python311\\site-packages (from google-auth<3,>=1.6.3->tensorboard<2.14,>=2.13->tensorflow-intel==2.13.0->tensorflow) (1.26.16)\n",
      "Requirement already satisfied: requests-oauthlib>=0.7.0 in c:\\users\\hp\\appdata\\local\\packages\\pythonsoftwarefoundation.python.3.11_qbz5n2kfra8p0\\localcache\\local-packages\\python311\\site-packages (from google-auth-oauthlib<1.1,>=0.5->tensorboard<2.14,>=2.13->tensorflow-intel==2.13.0->tensorflow) (1.3.1)\n",
      "Requirement already satisfied: charset-normalizer<4,>=2 in c:\\users\\hp\\appdata\\local\\packages\\pythonsoftwarefoundation.python.3.11_qbz5n2kfra8p0\\localcache\\local-packages\\python311\\site-packages (from requests<3,>=2.21.0->tensorboard<2.14,>=2.13->tensorflow-intel==2.13.0->tensorflow) (3.2.0)\n",
      "Requirement already satisfied: idna<4,>=2.5 in c:\\users\\hp\\appdata\\local\\packages\\pythonsoftwarefoundation.python.3.11_qbz5n2kfra8p0\\localcache\\local-packages\\python311\\site-packages (from requests<3,>=2.21.0->tensorboard<2.14,>=2.13->tensorflow-intel==2.13.0->tensorflow) (3.4)\n",
      "Requirement already satisfied: certifi>=2017.4.17 in c:\\users\\hp\\appdata\\local\\packages\\pythonsoftwarefoundation.python.3.11_qbz5n2kfra8p0\\localcache\\local-packages\\python311\\site-packages (from requests<3,>=2.21.0->tensorboard<2.14,>=2.13->tensorflow-intel==2.13.0->tensorflow) (2023.5.7)\n",
      "Requirement already satisfied: MarkupSafe>=2.1.1 in c:\\users\\hp\\appdata\\local\\packages\\pythonsoftwarefoundation.python.3.11_qbz5n2kfra8p0\\localcache\\local-packages\\python311\\site-packages (from werkzeug>=1.0.1->tensorboard<2.14,>=2.13->tensorflow-intel==2.13.0->tensorflow) (2.1.3)\n",
      "Requirement already satisfied: pyasn1<0.6.0,>=0.4.6 in c:\\users\\hp\\appdata\\local\\packages\\pythonsoftwarefoundation.python.3.11_qbz5n2kfra8p0\\localcache\\local-packages\\python311\\site-packages (from pyasn1-modules>=0.2.1->google-auth<3,>=1.6.3->tensorboard<2.14,>=2.13->tensorflow-intel==2.13.0->tensorflow) (0.5.0)\n",
      "Requirement already satisfied: oauthlib>=3.0.0 in c:\\users\\hp\\appdata\\local\\packages\\pythonsoftwarefoundation.python.3.11_qbz5n2kfra8p0\\localcache\\local-packages\\python311\\site-packages (from requests-oauthlib>=0.7.0->google-auth-oauthlib<1.1,>=0.5->tensorboard<2.14,>=2.13->tensorflow-intel==2.13.0->tensorflow) (3.2.2)\n",
      "Using cached typing_extensions-4.5.0-py3-none-any.whl (27 kB)\n",
      "Installing collected packages: typing-extensions\n",
      "  Attempting uninstall: typing-extensions\n",
      "    Found existing installation: typing_extensions 4.12.2\n",
      "    Uninstalling typing_extensions-4.12.2:\n",
      "      Successfully uninstalled typing_extensions-4.12.2\n",
      "Successfully installed typing-extensions-4.5.0\n"
     ]
    },
    {
     "name": "stderr",
     "output_type": "stream",
     "text": [
      "ERROR: pip's dependency resolver does not currently take into account all the packages that are installed. This behaviour is the source of the following dependency conflicts.\n",
      "pydantic 2.7.3 requires typing-extensions>=4.6.1, but you have typing-extensions 4.5.0 which is incompatible.\n",
      "pydantic-core 2.18.4 requires typing-extensions!=4.7.0,>=4.6.0, but you have typing-extensions 4.5.0 which is incompatible.\n",
      "\n",
      "[notice] A new release of pip is available: 24.0 -> 24.1\n",
      "[notice] To update, run: C:\\Users\\HP\\AppData\\Local\\Microsoft\\WindowsApps\\PythonSoftwareFoundation.Python.3.11_qbz5n2kfra8p0\\python.exe -m pip install --upgrade pip\n"
     ]
    },
    {
     "name": "stdout",
     "output_type": "stream",
     "text": [
      "Note: you may need to restart the kernel to use updated packages.\n"
     ]
    },
    {
     "name": "stderr",
     "output_type": "stream",
     "text": [
      "ERROR: Invalid requirement: '#changed'\n",
      "\n",
      "[notice] A new release of pip is available: 24.0 -> 24.1\n",
      "[notice] To update, run: C:\\Users\\HP\\AppData\\Local\\Microsoft\\WindowsApps\\PythonSoftwareFoundation.Python.3.11_qbz5n2kfra8p0\\python.exe -m pip install --upgrade pip\n"
     ]
    },
    {
     "name": "stdout",
     "output_type": "stream",
     "text": [
      "Requirement already satisfied: alpaca-py in c:\\users\\hp\\appdata\\local\\packages\\pythonsoftwarefoundation.python.3.11_qbz5n2kfra8p0\\localcache\\local-packages\\python311\\site-packages (0.23.0)\n",
      "Requirement already satisfied: msgpack<2.0.0,>=1.0.3 in c:\\users\\hp\\appdata\\local\\packages\\pythonsoftwarefoundation.python.3.11_qbz5n2kfra8p0\\localcache\\local-packages\\python311\\site-packages (from alpaca-py) (1.0.3)\n",
      "Requirement already satisfied: pandas>=1.5.3 in c:\\users\\hp\\appdata\\local\\packages\\pythonsoftwarefoundation.python.3.11_qbz5n2kfra8p0\\localcache\\local-packages\\python311\\site-packages (from alpaca-py) (2.0.2)\n",
      "Requirement already satisfied: pydantic<3.0.0,>=2.0.3 in c:\\users\\hp\\appdata\\local\\packages\\pythonsoftwarefoundation.python.3.11_qbz5n2kfra8p0\\localcache\\local-packages\\python311\\site-packages (from alpaca-py) (2.7.3)\n",
      "Requirement already satisfied: requests<3.0.0,>=2.30.0 in c:\\users\\hp\\appdata\\local\\packages\\pythonsoftwarefoundation.python.3.11_qbz5n2kfra8p0\\localcache\\local-packages\\python311\\site-packages (from alpaca-py) (2.31.0)\n",
      "Requirement already satisfied: sseclient-py<2.0.0,>=1.7.2 in c:\\users\\hp\\appdata\\local\\packages\\pythonsoftwarefoundation.python.3.11_qbz5n2kfra8p0\\localcache\\local-packages\\python311\\site-packages (from alpaca-py) (1.8.0)\n",
      "Requirement already satisfied: websockets>=10.4 in c:\\users\\hp\\appdata\\local\\packages\\pythonsoftwarefoundation.python.3.11_qbz5n2kfra8p0\\localcache\\local-packages\\python311\\site-packages (from alpaca-py) (10.4)\n",
      "Requirement already satisfied: python-dateutil>=2.8.2 in c:\\users\\hp\\appdata\\local\\packages\\pythonsoftwarefoundation.python.3.11_qbz5n2kfra8p0\\localcache\\local-packages\\python311\\site-packages (from pandas>=1.5.3->alpaca-py) (2.8.2)\n",
      "Requirement already satisfied: pytz>=2020.1 in c:\\users\\hp\\appdata\\local\\packages\\pythonsoftwarefoundation.python.3.11_qbz5n2kfra8p0\\localcache\\local-packages\\python311\\site-packages (from pandas>=1.5.3->alpaca-py) (2023.3)\n",
      "Requirement already satisfied: tzdata>=2022.1 in c:\\users\\hp\\appdata\\local\\packages\\pythonsoftwarefoundation.python.3.11_qbz5n2kfra8p0\\localcache\\local-packages\\python311\\site-packages (from pandas>=1.5.3->alpaca-py) (2023.3)\n",
      "Requirement already satisfied: numpy>=1.21.0 in c:\\users\\hp\\appdata\\local\\packages\\pythonsoftwarefoundation.python.3.11_qbz5n2kfra8p0\\localcache\\local-packages\\python311\\site-packages (from pandas>=1.5.3->alpaca-py) (1.24.3)\n",
      "Requirement already satisfied: annotated-types>=0.4.0 in c:\\users\\hp\\appdata\\local\\packages\\pythonsoftwarefoundation.python.3.11_qbz5n2kfra8p0\\localcache\\local-packages\\python311\\site-packages (from pydantic<3.0.0,>=2.0.3->alpaca-py) (0.7.0)\n",
      "Requirement already satisfied: pydantic-core==2.18.4 in c:\\users\\hp\\appdata\\local\\packages\\pythonsoftwarefoundation.python.3.11_qbz5n2kfra8p0\\localcache\\local-packages\\python311\\site-packages (from pydantic<3.0.0,>=2.0.3->alpaca-py) (2.18.4)\n",
      "Collecting typing-extensions>=4.6.1 (from pydantic<3.0.0,>=2.0.3->alpaca-py)\n",
      "  Using cached typing_extensions-4.12.2-py3-none-any.whl.metadata (3.0 kB)\n",
      "Requirement already satisfied: charset-normalizer<4,>=2 in c:\\users\\hp\\appdata\\local\\packages\\pythonsoftwarefoundation.python.3.11_qbz5n2kfra8p0\\localcache\\local-packages\\python311\\site-packages (from requests<3.0.0,>=2.30.0->alpaca-py) (3.2.0)\n",
      "Requirement already satisfied: idna<4,>=2.5 in c:\\users\\hp\\appdata\\local\\packages\\pythonsoftwarefoundation.python.3.11_qbz5n2kfra8p0\\localcache\\local-packages\\python311\\site-packages (from requests<3.0.0,>=2.30.0->alpaca-py) (3.4)\n",
      "Requirement already satisfied: urllib3<3,>=1.21.1 in c:\\users\\hp\\appdata\\local\\packages\\pythonsoftwarefoundation.python.3.11_qbz5n2kfra8p0\\localcache\\local-packages\\python311\\site-packages (from requests<3.0.0,>=2.30.0->alpaca-py) (1.26.16)\n",
      "Requirement already satisfied: certifi>=2017.4.17 in c:\\users\\hp\\appdata\\local\\packages\\pythonsoftwarefoundation.python.3.11_qbz5n2kfra8p0\\localcache\\local-packages\\python311\\site-packages (from requests<3.0.0,>=2.30.0->alpaca-py) (2023.5.7)\n",
      "Requirement already satisfied: six>=1.5 in c:\\users\\hp\\appdata\\local\\packages\\pythonsoftwarefoundation.python.3.11_qbz5n2kfra8p0\\localcache\\local-packages\\python311\\site-packages (from python-dateutil>=2.8.2->pandas>=1.5.3->alpaca-py) (1.16.0)\n",
      "Using cached typing_extensions-4.12.2-py3-none-any.whl (37 kB)\n",
      "Installing collected packages: typing-extensions\n",
      "  Attempting uninstall: typing-extensions\n",
      "    Found existing installation: typing_extensions 4.5.0\n",
      "    Uninstalling typing_extensions-4.5.0:\n",
      "      Successfully uninstalled typing_extensions-4.5.0\n",
      "Successfully installed typing-extensions-4.12.2\n",
      "Note: you may need to restart the kernel to use updated packages.\n"
     ]
    },
    {
     "name": "stderr",
     "output_type": "stream",
     "text": [
      "ERROR: pip's dependency resolver does not currently take into account all the packages that are installed. This behaviour is the source of the following dependency conflicts.\n",
      "tensorflow-intel 2.13.0 requires typing-extensions<4.6.0,>=3.6.6, but you have typing-extensions 4.12.2 which is incompatible.\n",
      "\n",
      "[notice] A new release of pip is available: 24.0 -> 24.1\n",
      "[notice] To update, run: C:\\Users\\HP\\AppData\\Local\\Microsoft\\WindowsApps\\PythonSoftwareFoundation.Python.3.11_qbz5n2kfra8p0\\python.exe -m pip install --upgrade pip\n"
     ]
    },
    {
     "name": "stdout",
     "output_type": "stream",
     "text": [
      "Requirement already satisfied: pandas_market_calendars in c:\\users\\hp\\appdata\\local\\packages\\pythonsoftwarefoundation.python.3.11_qbz5n2kfra8p0\\localcache\\local-packages\\python311\\site-packages (4.4.0)\n",
      "Requirement already satisfied: pandas>=1.1 in c:\\users\\hp\\appdata\\local\\packages\\pythonsoftwarefoundation.python.3.11_qbz5n2kfra8p0\\localcache\\local-packages\\python311\\site-packages (from pandas_market_calendars) (2.0.2)\n",
      "Requirement already satisfied: pytz in c:\\users\\hp\\appdata\\local\\packages\\pythonsoftwarefoundation.python.3.11_qbz5n2kfra8p0\\localcache\\local-packages\\python311\\site-packages (from pandas_market_calendars) (2023.3)\n",
      "Requirement already satisfied: python-dateutil in c:\\users\\hp\\appdata\\local\\packages\\pythonsoftwarefoundation.python.3.11_qbz5n2kfra8p0\\localcache\\local-packages\\python311\\site-packages (from pandas_market_calendars) (2.8.2)\n",
      "Requirement already satisfied: exchange-calendars>=3.3 in c:\\users\\hp\\appdata\\local\\packages\\pythonsoftwarefoundation.python.3.11_qbz5n2kfra8p0\\localcache\\local-packages\\python311\\site-packages (from pandas_market_calendars) (4.5.4)\n",
      "Requirement already satisfied: numpy<2 in c:\\users\\hp\\appdata\\local\\packages\\pythonsoftwarefoundation.python.3.11_qbz5n2kfra8p0\\localcache\\local-packages\\python311\\site-packages (from exchange-calendars>=3.3->pandas_market_calendars) (1.24.3)\n",
      "Requirement already satisfied: pyluach in c:\\users\\hp\\appdata\\local\\packages\\pythonsoftwarefoundation.python.3.11_qbz5n2kfra8p0\\localcache\\local-packages\\python311\\site-packages (from exchange-calendars>=3.3->pandas_market_calendars) (2.2.0)\n",
      "Requirement already satisfied: toolz in c:\\users\\hp\\appdata\\local\\packages\\pythonsoftwarefoundation.python.3.11_qbz5n2kfra8p0\\localcache\\local-packages\\python311\\site-packages (from exchange-calendars>=3.3->pandas_market_calendars) (0.12.1)\n",
      "Requirement already satisfied: tzdata in c:\\users\\hp\\appdata\\local\\packages\\pythonsoftwarefoundation.python.3.11_qbz5n2kfra8p0\\localcache\\local-packages\\python311\\site-packages (from exchange-calendars>=3.3->pandas_market_calendars) (2023.3)\n",
      "Requirement already satisfied: korean-lunar-calendar in c:\\users\\hp\\appdata\\local\\packages\\pythonsoftwarefoundation.python.3.11_qbz5n2kfra8p0\\localcache\\local-packages\\python311\\site-packages (from exchange-calendars>=3.3->pandas_market_calendars) (0.3.1)\n",
      "Requirement already satisfied: six>=1.5 in c:\\users\\hp\\appdata\\local\\packages\\pythonsoftwarefoundation.python.3.11_qbz5n2kfra8p0\\localcache\\local-packages\\python311\\site-packages (from python-dateutil->pandas_market_calendars) (1.16.0)\n",
      "Note: you may need to restart the kernel to use updated packages.\n"
     ]
    },
    {
     "name": "stderr",
     "output_type": "stream",
     "text": [
      "\n",
      "[notice] A new release of pip is available: 24.0 -> 24.1\n",
      "[notice] To update, run: C:\\Users\\HP\\AppData\\Local\\Microsoft\\WindowsApps\\PythonSoftwareFoundation.Python.3.11_qbz5n2kfra8p0\\python.exe -m pip install --upgrade pip\n"
     ]
    },
    {
     "name": "stdout",
     "output_type": "stream",
     "text": [
      "Requirement already satisfied: twelvedata in c:\\users\\hp\\appdata\\local\\packages\\pythonsoftwarefoundation.python.3.11_qbz5n2kfra8p0\\localcache\\local-packages\\python311\\site-packages (1.2.12)\n",
      "Requirement already satisfied: pytimeparse<2,>=1.1 in c:\\users\\hp\\appdata\\local\\packages\\pythonsoftwarefoundation.python.3.11_qbz5n2kfra8p0\\localcache\\local-packages\\python311\\site-packages (from twelvedata) (1.1.8)\n",
      "Requirement already satisfied: requests<3,>=2.22 in c:\\users\\hp\\appdata\\local\\packages\\pythonsoftwarefoundation.python.3.11_qbz5n2kfra8p0\\localcache\\local-packages\\python311\\site-packages (from twelvedata) (2.31.0)\n",
      "Requirement already satisfied: charset-normalizer<4,>=2 in c:\\users\\hp\\appdata\\local\\packages\\pythonsoftwarefoundation.python.3.11_qbz5n2kfra8p0\\localcache\\local-packages\\python311\\site-packages (from requests<3,>=2.22->twelvedata) (3.2.0)\n",
      "Requirement already satisfied: idna<4,>=2.5 in c:\\users\\hp\\appdata\\local\\packages\\pythonsoftwarefoundation.python.3.11_qbz5n2kfra8p0\\localcache\\local-packages\\python311\\site-packages (from requests<3,>=2.22->twelvedata) (3.4)\n",
      "Requirement already satisfied: urllib3<3,>=1.21.1 in c:\\users\\hp\\appdata\\local\\packages\\pythonsoftwarefoundation.python.3.11_qbz5n2kfra8p0\\localcache\\local-packages\\python311\\site-packages (from requests<3,>=2.22->twelvedata) (1.26.16)\n",
      "Requirement already satisfied: certifi>=2017.4.17 in c:\\users\\hp\\appdata\\local\\packages\\pythonsoftwarefoundation.python.3.11_qbz5n2kfra8p0\\localcache\\local-packages\\python311\\site-packages (from requests<3,>=2.22->twelvedata) (2023.5.7)\n",
      "Note: you may need to restart the kernel to use updated packages.\n"
     ]
    },
    {
     "name": "stderr",
     "output_type": "stream",
     "text": [
      "\n",
      "[notice] A new release of pip is available: 24.0 -> 24.1\n",
      "[notice] To update, run: C:\\Users\\HP\\AppData\\Local\\Microsoft\\WindowsApps\\PythonSoftwareFoundation.Python.3.11_qbz5n2kfra8p0\\python.exe -m pip install --upgrade pip\n"
     ]
    }
   ],
   "source": [
    "%pip install tensorflow\n",
    "%pip install alpaca-trade-api   #changed ! to %\n",
    "%pip install alpaca-py\n",
    "%pip install pandas_market_calendars   \n",
    "%pip install twelvedata "
   ]
  },
  {
   "cell_type": "code",
   "execution_count": 1,
   "metadata": {},
   "outputs": [],
   "source": [
    "import pandas as pd\n",
    "import pandas_market_calendars as mcal\n",
    "from datetime import datetime\n",
    "import numpy as np\n",
    "import random\n",
    "import time\n",
    "import csv\n",
    "\n",
    "from alpaca.data import StockHistoricalDataClient, TimeFrame\n",
    "from alpaca.data.requests import StockBarsRequest\n",
    "\n",
    "import tensorflow as tf\n",
    "from tensorflow.keras import layers, models\n",
    "\n",
    "from functions import connect, get_array, create_data\n",
    "from functions_NN import create_t_and_t\n",
    "data_client = connect()"
   ]
  },
  {
   "cell_type": "code",
   "execution_count": 3,
   "metadata": {},
   "outputs": [
    {
     "name": "stdout",
     "output_type": "stream",
     "text": [
      "[-0.44, 0.24, 0.93, 0.35, -0.13, -0.05, 0.54, 0.47, 0.07, -0.06, 0.73, 0.37, -0.23, 0.72, -0.36, 0.08, -0.09, 0.3, -1.31, -0.15, 0.39, 0.09, 0.12, -0.22, 0.75, 0.42, -0.32, -0.19, 0.54, 0.37, -0.08, 0.55, 0.03, 0.17, -0.21, -0.21, -1.29, -0.01, 0.38, 0.86, -0.23, 0.77, 0.38, -0.86, -0.49, -1.09, -0.28, -2.07, -0.68, 0.45, 0.12, -0.23, -0.08, 0.77, -2.0, 0.33, 0.12, -0.32, -0.03, 0.28, -0.46, -0.01, -0.17, -0.23, 0.91, 0.7, -0.22, -0.07, -0.39, -0.22, 0.65, 0.16, -0.73, 0.33, -0.16, -0.6, 0.05, 0.76, 0.0, 0.18, 0.05, -0.45, -0.28, 0.69, 0.36, -0.19, -0.44, 0.54, 0.36, -0.09, -0.04, 0.47, 0.04, 0.36, 0.09, -0.23, 0.96, 0.94, -1.17, 0.07, 0.73, -0.04, 0.09, -0.5, 0.18, -0.12, 1.0, 0.52, 0.1, -0.07, -0.24, -0.26, 0.51, 0.43, 1.32, 0.09, -0.22, -0.35, 0.1, -0.25, -0.04, 0.23, 0.33, -0.04, 0.29, -1.2, 0.49, 0.21, -0.03, -0.1, 1.29, 0.54, 0.5, 0.6, 0.29, -0.88, 0.29, 0.24, 0.73, 0.2, -0.56, 0.19, -0.04, 0.05, 0.01, 0.02, 0.83, 0.12, 0.22, -0.1, 0.54, 0.22, 1.06, -1.05, -0.07, 0.28, 0.05, 0.36, 0.98, 0.83, 0.49, 0.49, -0.85, -0.94, -1.03, 0.23, 0.2, -1.12, -1.05, -0.92, 0.74, 0.51, -0.85, -0.75, 0.16, 0.37, 1.1, 1.79, 0.03, 0.61, -0.82, 0.16, -0.97, 0.71, -0.24, -0.75, 0.71, -0.47, -0.99, -1.21, 0.01, 0.13, -0.84, 0.29, 0.06, -0.21, 0.05, 0.14, 0.39, -0.49, -0.33, -0.44, -0.29, 0.33, 1.47, 0.12, 0.29, -1.75, 0.86, -0.69, 0.41, 0.72, -1.1, -0.64, -0.76, 0.77, 0.38, -0.51, -0.73, 0.15, 0.45, -0.87, 0.18, -0.69, 0.05, 0.08, 0.23, -1.42, 0.23, 0.33, 0.18, -0.39, -0.44, 0.04, 0.82, 0.38, -0.27, 0.37, -0.08, 0.46, 0.34, -0.02, 0.05, 0.28, 0.2, 0.42, 0.49, 0.31, 0.88, -0.27, 0.06, 0.59, -0.28, -0.06, -0.8, 1.44, 0.04, 0.31, 0.67, -0.01, 0.59, -0.44, 0.32, -0.28, 0.81, 0.89, -0.1, -0.44, 1.13, -0.02, -0.32, -0.72, 0.04, -0.37, 1.04, 0.7, -0.39, 0.19, -0.44, 0.04, -0.25, -0.05, -0.06, 0.91, -0.44, -0.81, -0.95, 0.01, 1.08, 1.33, -0.58, -1.1, 0.16, 0.0, 0.16, 0.47, -0.33, 0.38, -0.08, 1.05, -0.93, -0.13, 0.74, 0.59, -0.08, -0.72, 0.51, 1.17, -0.1, 0.36, -0.04, -0.04, -0.41, 1.0, -0.49, -1.66, 0.42, 0.75, -0.82, 2.4, 0.88, 0.31, 0.93, -1.3, -2.05, 0.13, -1.52, -0.14, 1.12, 1.31, -0.17, -0.24, -0.54, 0.24, -0.22, -0.25, -0.98, 0.3, -0.12, 0.88, 0.34, 1.01, 0.54, -1.77, -0.6, 1.55, 0.01, 0.18, 0.46, 1.38, 1.33, -0.55, 0.5, 0.4, 1.11, 0.33, 0.99, 1.48, -0.18, -1.88, -0.18, 1.24, 0.07, 0.84, 0.86, -0.64, 1.43, -0.61, 0.15, -0.92, 0.47, 1.0, -1.22, -0.36, 0.86, -0.61, 0.78, 0.35, -0.9, -0.5, -1.18, -0.55, -2.01, 1.23, -0.42, 0.28, 0.06, -1.4, -1.08, 1.16, -0.34, 3.08, -0.21, -0.8, 0.12, 0.72, 0.82, -0.01, -0.43, 0.97, -0.34, -0.66, -0.39, 0.74, 1.71, -1.53, 0.23, 0.59, -0.17, -0.12, -2.35, -1.44, -0.06, 2.41, -0.81, 0.1, 1.62, 0.79, 2.51, -0.71, -0.13, -1.07, 0.77, -2.96, 4.8, -0.45, -0.14, -1.08, -1.67, -0.64, 0.99, 1.5, 1.53, -1.28, -1.1, 1.69, -1.26, -0.57, -0.71, -0.63, -2.26, -0.25, 1.65, 0.37, -0.72, 0.03, -2.17, 0.54, 0.96, 0.96, 1.26, 1.88, -0.6, -2.01, 0.9, -1.19, -1.4, 0.11, -3.36, 1.03, 0.38, -0.13, -0.89, -0.67, 0.24, 0.17, 0.46, 0.96, 1.2, -0.71, 0.29, -0.21, -0.54, 0.93, -0.05, 1.01, -0.26, 0.4, 1.08, 1.03, 1.69, -0.75, -0.05, -0.96, 1.17, 0.59, 1.6, -1.66, 0.67, 1.15, 0.99, -0.74, -0.42, 0.36, 1.0, 0.3, 1.62, 1.24, 0.27, -0.23, -2.45, -0.63, 2.28, 0.38, 1.02, 0.86, 0.1, -1.04, 0.49, -0.79, -1.28, -1.29, -1.93, -0.65, 1.87, -0.72, -0.45, 1.93, -1.34, -0.15, 1.8, 1.67, 1.29, 0.34, 1.04, -0.92, 0.22, -2.88, 0.44, 0.03, 1.26, 0.76, -1.34, -1.34, -1.71, 0.06, -2.53, 2.87, 0.33, 0.58, -2.74, 1.31, 0.01, -2.28, 1.14, -2.49, -2.34, -0.49, 1.64, 0.27, -1.3, 1.21, -1.08, -0.94, -0.09, 0.71, -0.08, -0.92, 0.81, -0.09, -1.36, -0.34, 0.33, 0.84, 0.34, 1.02, -0.7, 0.84, 0.01, 1.49, 1.73, 1.33, 1.52, -0.92, -1.88, 0.7, 0.53, -0.8, -2.81, 0.1, -1.08, 1.28, -1.16, 1.06, 1.89, 4.13, -2.45, -0.54, -0.71, -1.39, 0.6, 0.53, -0.2, -1.99, -0.45, 0.51, 0.94, -0.5, 0.53, -0.96, 0.41, 0.5, 1.96, 2.14, -1.6, -1.67, 0.33, 1.81, -1.7, -1.54, -1.39, -0.71, 0.77, -1.62, -0.12, 0.97, 0.61, -0.4, 0.01, -1.84, -0.35, 0.3, -0.14, -0.37, 0.1, -0.18, 1.1, 0.39, 1.06, 0.97, 0.11, -0.36, -1.3, 1.55, 0.06, -0.77, 0.32, -0.38, 0.17, 0.83, 0.58, -1.25, 1.48, -2.41, -1.39, 0.11, -0.73, 0.73, 0.21, -0.71, -0.15, 0.1, -0.18, 0.46, -0.26, 0.46, -0.31, -0.42, -0.41, -0.16, -0.16, 0.33, 0.74, 0.37, -0.06, 0.74, 0.63, -0.55, -0.27, 0.28, -0.0, 0.4, 0.28, 0.38, 0.73, 0.25, 0.78, 0.11, -0.47, -0.57, -0.37, 0.06, 1.31, 0.66, -1.01, 0.76, -1.58, -0.17, -1.36, -0.04, 0.56, 0.76, 0.42, -0.66, -0.19, -0.79, -0.03, 0.73, -0.88, -0.46, -1.24, -0.38, 0.0, -0.28, 0.24, -0.03, -0.17, -0.13, 0.28, 0.7, -0.52, 0.17, 0.0, 0.47, 0.71, 0.82, -0.85, -0.05, 0.55, 0.07, 0.34, -0.01, 0.02, -0.07, 0.09, 0.35]\n",
      "[0.31, -0.32, 3.82, -1.5, 0.25, 0.71, -0.31, -0.05, -0.96, -1.32, 0.77, 0.8, 2.53, -1.75, -4.26, 0.15, -0.68, -1.39, 1.29, 3.07, -5.73, -1.13, 0.4, 0.47, -2.35, 1.06, 2.62, 1.81, -0.48, -1.53, -0.48, 0.14, -1.21, 1.75, 1.24, 0.45, -2.59, -1.4, -1.4, 0.7, 2.05, 3.09, -3.08, 0.41, 0.33, -3.27, -0.28, -6.07, 0.73, -2.5, -0.76, 1.76, 0.26, 0.33, 1.01, 1.38, -9.34, 1.82, -0.43, 1.8, 0.57, -0.21, -0.93, 3.31, 1.38, -3.92, -1.26, -0.95, -1.36, 3.37, -3.04, -1.98, 1.12, -2.28, -2.82, -0.54, 0.1, 2.31, 0.1, 2.39, 7.07, 0.16, 1.18, -1.55, -2.94, 5.0, 0.95, -3.18, -2.02, -1.33, 3.01, 2.14, -0.45, 0.87, -0.58, 0.87, -3.04, -2.71, 2.23, 0.71, 1.18, -2.31, -0.53, 1.12, -1.68, 3.33, 1.15, -3.56, 5.08, -2.12, 1.09, 5.57, -1.0, -0.34, -1.02, 2.27, 4.15, 1.32, 1.27, -0.29, -3.95, -1.4, 1.34, 0.93, 2.38, -0.63, 1.28, -2.54, 1.14, -0.18, -0.27, -0.64, 0.16, 4.05, 2.95, -0.48, 6.28, -3.21, 0.81, -0.99, 1.26, -1.98, -0.1, 0.02, 0.48, 0.23, 2.09, -1.14, 0.69, 0.82, 2.24, -2.11, 0.15, -1.31, 3.71, -0.53, 0.04, 1.42, -0.75, 2.93, -0.12, 9.6, 2.35, 0.04, 0.66, -2.42, -4.35, 0.69, -0.8, -0.46, -1.36, -1.17, 1.55, 0.99, -3.28, -3.28, 0.36, -0.76, 1.41, 0.91, 4.97, -0.48, 3.4, -1.69, 1.04, -1.79, 4.92, 1.29, -0.56, 1.49, -0.74, -2.53, -1.97, -0.14, 1.54, -4.32, -1.66, 2.48, 1.07, -1.86, -0.87, 0.42, -1.16, 1.63, 2.29, -0.44, 1.13, 3.73, -0.83, 1.07, -8.34, 3.58, -3.42, 1.9, 2.98, -2.95, -2.63, -0.57, 4.9, -1.18, -0.96, -2.14, -1.49, 0.39, 1.17, 3.85, -8.49, 2.92, 0.21, -0.37, -0.62, -1.63, 1.67, -0.01, -0.02, -4.1, -4.01, 0.32, 2.04, -0.2, 0.14, 1.5, -0.3, 0.51, -0.87, 1.26, -1.85, 0.57, 0.78, -0.74, 1.81, 1.68, -3.1, 0.64, -1.37, -5.38, -0.13, -4.56, -0.92, 0.64, -5.89, 0.52, 1.09, 2.33, -4.99, 5.36, 1.15, -2.39, 1.86, -3.44, -3.95, 3.73, 2.6, 2.16, 0.81, 3.17, -0.51, 3.8, 1.93, 4.2, 2.31, -1.62, -1.07, 0.62, 0.18, 5.61, 5.71, 6.18, -2.3, 0.66, -1.47, 2.7, 1.19, -0.66, -3.57, -0.61, -1.53, 1.45, 1.62, -2.0, -0.4, -0.08, -0.75, -2.78, -2.11, 4.56, 1.09, -1.9, -1.2, -0.14, 1.73, -0.12, 0.02, -2.28, -1.44, -1.44, -1.24, 0.23, 2.02, -1.1, 0.53, 1.22, 7.67, 3.35, 4.52, 0.76, -2.13, -1.48, 3.12, 1.28, -1.06, 1.39, 3.7, -0.33, 0.91, -1.09, 0.44, -1.09, -0.42, -0.49, -1.38, -3.49, 0.09, 3.93, 1.91, -0.98, -3.11, -1.39, 1.89, -1.12, -0.65, 4.77, 7.86, 4.0, -2.4, 2.31, -1.75, 2.76, 1.29, 5.96, 3.03, -1.83, -1.86, 1.02, 1.66, 1.04, 0.98, 2.07, 1.54, 1.29, -2.84, -0.52, -3.0, 1.57, 1.86, 0.05, -0.94, 2.23, -3.36, 3.44, 2.02, -0.81, -1.27, -1.59, -2.82, -4.3, 3.11, -1.3, 0.47, 0.88, -3.85, -1.23, -0.09, -1.06, 5.79, -0.31, -0.84, -0.7, 1.21, 3.48, 0.35, -2.0, 4.73, -1.3, -1.15, -2.25, 4.01, 6.49, -3.79, -0.37, 0.24, -0.5, 3.44, -6.94, -2.97, -1.14, 4.92, -4.87, 0.07, 4.6, 0.22, 2.81, 0.52, -0.17, -3.32, 1.06, -6.14, 6.16, 0.7, 0.73, 0.87, -8.7, 0.04, 2.03, -0.54, 2.56, -0.4, -4.48, 1.86, -1.08, -2.31, -0.06, -5.94, -1.27, -1.09, 1.83, 1.18, 0.03, 0.45, -4.85, -0.29, 1.69, 3.44, 3.44, 0.47, -2.1, -3.69, -0.02, -1.63, -3.46, -1.73, -5.31, 4.34, 0.56, 0.11, -1.65, -2.76, 2.76, -1.0, -0.77, 0.5, 1.64, -1.81, 0.61, -2.46, 0.01, 1.25, 6.57, 3.44, 3.74, 1.24, 4.16, 1.39, 3.31, -2.01, 1.12, -2.33, 1.66, 4.73, 3.77, -0.95, 2.21, 0.47, 3.44, -0.81, -1.15, 1.33, 2.73, 0.24, 4.47, -2.02, -1.62, -1.96, -5.75, -1.37, 4.21, -2.24, -0.77, -0.45, -0.75, -5.29, 1.59, -0.48, -4.68, -4.05, -2.73, -2.55, 1.0, -2.42, 0.47, 7.75, -0.89, -0.56, 2.12, 8.11, 2.46, -1.49, 3.72, -4.97, -0.02, -3.72, 4.69, 0.4, 7.72, 0.53, 0.09, -0.5, -7.0, 1.06, -3.87, 1.26, 1.42, 4.89, -2.87, 3.43, 0.78, -5.1, 0.92, -2.1, -5.58, -3.9, 3.8, 2.02, -5.4, 2.56, -3.73, -1.25, -1.47, -0.19, -0.75, -2.61, 0.51, -2.07, -5.99, -3.1, 0.78, 2.16, -0.2, 4.85, -0.32, -0.56, 1.93, 1.96, -0.4, 3.38, 6.5, -0.72, -3.55, -2.23, 2.44, 2.65, -5.14, -3.21, -5.21, 2.43, -6.95, 2.52, 3.33, 11.43, -6.5, 0.33, -0.06, -3.35, -1.14, 3.65, -1.07, -10.27, -2.38, 2.51, 4.78, 0.09, 2.71, -0.2, -5.49, 0.03, 5.86, 3.63, -8.36, -3.35, -2.57, 0.98, -1.11, -3.37, -3.95, -1.91, 3.95, -4.8, -0.8, 2.89, 2.26, -3.14, 0.03, -4.67, -4.36, 3.52, -1.55, -1.55, -2.98, -1.75, 4.64, 1.57, 0.86, 4.39, -0.13, 1.06, -5.69, 8.43, 3.06, -3.22, -1.94, -4.86, 0.19, 0.66, -1.47, -5.03, 2.03, -7.02, -3.01, 2.8, -0.64, 5.58, -0.33, -2.94, -0.33, -1.31, -0.42, 4.47, -1.03, 1.28, 2.14, -2.82, -3.3, 9.05, -2.04, 4.16, 2.18, 2.12, 4.84, -0.6, -1.38, 0.53, -0.05, 1.53, -0.83, 2.43, 0.09, 0.15, 4.05, -0.34, 1.35, 2.71, -0.12, 0.06, -1.4, 1.77, 3.18, 0.88, -1.38, -0.15, 0.8, -1.9, -4.97, 2.95, 0.58, 1.2, 1.52, 0.66, -0.03, -1.59, 1.24, -0.38, 0.2, -0.44, -1.67, -0.38, -2.49, -0.73, 0.98, -1.05, -1.18, -0.49, -1.15, 3.14, -1.2, 0.16, -1.64, 3.3, 0.32, 0.37, -3.64, 0.86, -2.47, 3.15, -0.83, 0.07, -1.31, -3.35, -0.4, -3.67, 3.86]\n"
     ]
    }
   ],
   "source": [
    "stock = \"AMD\"\n",
    "\n",
    "'''below are finding for the number of when create_data works and doesnt 6/24'''\n",
    "#create_data(\"SPY\", 1055, data_client)    # on 6/24 (monday) test: 100- 106 works. 107-111 doesn't work\n",
    "# 112 - 113 works   114 - 118 doesnt work     | 119 - 120 works (swaps a few more times very quickly?)\n",
    "\n",
    "def example(stock):\n",
    "    '''Returns an array of the data from csv of stock'''\n",
    "    path_stock = f\"Stocks/{stock}.csv\"\n",
    "    stock_array = []\n",
    "\n",
    "    with open(path_stock, mode='r', newline='') as stock:\n",
    "        stock_reader = csv.reader(stock)\n",
    "        while(True):\n",
    "            stock_reader = next(csv.reader(stock))[1]\n",
    "            if str(stock_reader) == \"--\":\n",
    "                break\n",
    "            stock_array.append(round(float(stock_reader) , 2))\n",
    "    return stock_array  \n",
    "  \n",
    "print(example(\"SPY\"))\n",
    "print(example(stock))"
   ]
  },
  {
   "cell_type": "code",
   "execution_count": 5,
   "metadata": {},
   "outputs": [],
   "source": [
    "#from functions import get_array\n",
    "\n",
    "SPY_array = get_array(\"SPY\")\n",
    "stock_array = get_array(stock)"
   ]
  },
  {
   "cell_type": "code",
   "execution_count": 6,
   "metadata": {},
   "outputs": [
    {
     "name": "stdout",
     "output_type": "stream",
     "text": [
      "(2050, 14)\n",
      "(2050,)\n"
     ]
    }
   ],
   "source": [
    "\n",
    "\n",
    "x_train, y_train, x_test, y_test = create_t_and_t(2050, stock_array, SPY_array)\n",
    "print(x_train.shape)   # train on x percent of stocks?\n",
    "# print(x_train)\n",
    "print(y_train.shape)\n",
    "# print(y_train)\n",
    "\n"
   ]
  },
  {
   "cell_type": "code",
   "execution_count": null,
   "metadata": {},
   "outputs": [],
   "source": [
    "def create_model():\n",
    "    model = models.Sequential([\n",
    "    layers.Dense(64, activation='relu', input_shape=(14,)),   # changed 100 from num samples \n",
    "    layers.Dense(64, activation='relu'),\n",
    "    layers.Dense(2, activation='softmax')\n",
    "])\n",
    "    model.compile(optimizer='adam',\n",
    "              loss='sparse_categorical_crossentropy',\n",
    "              metrics=['accuracy'])\n",
    "    return model\n",
    "\n",
    "\n",
    "    \n",
    "    "
   ]
  },
  {
   "cell_type": "code",
   "execution_count": null,
   "metadata": {},
   "outputs": [],
   "source": [
    "# num_samples = 10000\n",
    "# num_features = 14\n",
    "# num_classes = 3\n",
    "\n",
    "# x_train = np.random.rand(num_samples, num_features)\n",
    "# y_train = np.random.randint(num_classes, size=num_samples)\n",
    "\n",
    "# x_test = np.random.rand(int(num_samples * 0.2), num_features)\n",
    "# y_test = np.random.randint(num_classes, size=int(num_samples * 0.2))\n",
    "\n",
    "# print(\"Shape of x_train:\", x_train.shape)\n",
    "# print(\"Shape of y_train:\", y_train.shape)\n",
    "# print(\"Shape of x_test:\", x_test.shape)\n",
    "# print(\"Shape of y_test:\", y_test.shape)"
   ]
  },
  {
   "cell_type": "code",
   "execution_count": null,
   "metadata": {},
   "outputs": [],
   "source": [
    "model = models.Sequential([\n",
    "    layers.Dense(64, activation='relu', input_shape=(14,)),   # changed 100 from num samples \n",
    "    layers.Dense(64, activation='relu'),\n",
    "    layers.Dense(2, activation='softmax')\n",
    "])"
   ]
  },
  {
   "cell_type": "code",
   "execution_count": null,
   "metadata": {},
   "outputs": [],
   "source": [
    "model.compile(optimizer='adam',\n",
    "              loss='sparse_categorical_crossentropy',\n",
    "              metrics=['accuracy'])"
   ]
  },
  {
   "cell_type": "code",
   "execution_count": null,
   "metadata": {},
   "outputs": [],
   "source": [
    "model.fit(x_train, y_train, epochs=100, validation_data=(x_test, y_test))  # change back the validation_data x_train to x_test same for y_train\n"
   ]
  },
  {
   "cell_type": "code",
   "execution_count": null,
   "metadata": {},
   "outputs": [],
   "source": [
    "test_loss, test_acc = model.evaluate(x_test, y_test)\n",
    "print(f\"Test accuracy: {test_acc}\")\n"
   ]
  },
  {
   "cell_type": "code",
   "execution_count": 7,
   "metadata": {},
   "outputs": [
    {
     "name": "stdout",
     "output_type": "stream",
     "text": [
      "[[ 0.71 -0.08 -0.92  0.81 -0.09 -1.36 -0.34 -3.73 -1.25 -1.47 -0.19 -0.75\n",
      "  -2.61  0.51]]\n",
      "[[ 1.14 -2.49 -2.34 -0.49  1.64  0.27 -1.3   3.43  0.78 -5.1   0.92 -2.1\n",
      "  -5.58 -3.9 ]]\n"
     ]
    },
    {
     "ename": "NameError",
     "evalue": "name 'model' is not defined",
     "output_type": "error",
     "traceback": [
      "\u001b[1;31m---------------------------------------------------------------------------\u001b[0m",
      "\u001b[1;31mNameError\u001b[0m                                 Traceback (most recent call last)",
      "Cell \u001b[1;32mIn[7], line 9\u001b[0m\n\u001b[0;32m      5\u001b[0m \u001b[38;5;28mprint\u001b[39m(np\u001b[38;5;241m.\u001b[39marray([x_train[\u001b[38;5;241m1\u001b[39m]]))\n\u001b[0;32m      7\u001b[0m \u001b[38;5;66;03m#new_input = np.array(x_train[1])\u001b[39;00m\n\u001b[0;32m      8\u001b[0m \u001b[38;5;66;03m# Make a prediction\u001b[39;00m\n\u001b[1;32m----> 9\u001b[0m prediction \u001b[38;5;241m=\u001b[39m \u001b[43mmodel\u001b[49m\u001b[38;5;241m.\u001b[39mpredict(new_input)\n\u001b[0;32m     10\u001b[0m \u001b[38;5;28mprint\u001b[39m(prediction)\n",
      "\u001b[1;31mNameError\u001b[0m: name 'model' is not defined"
     ]
    }
   ],
   "source": [
    "# running once\n",
    "new_input = np.array([x_train[0]])  # 1 sample, 14 features\n",
    "\n",
    "print(new_input)\n",
    "print(np.array([x_train[1]]))\n",
    "\n",
    "#new_input = np.array(x_train[1])\n",
    "# Make a prediction\n",
    "prediction = model.predict(new_input)\n",
    "print(prediction)"
   ]
  },
  {
   "cell_type": "code",
   "execution_count": null,
   "metadata": {},
   "outputs": [],
   "source": [
    "model.save('synthetic_model.h5')\n"
   ]
  }
 ],
 "metadata": {
  "kernelspec": {
   "display_name": "Python 3",
   "language": "python",
   "name": "python3"
  },
  "language_info": {
   "codemirror_mode": {
    "name": "ipython",
    "version": 3
   },
   "file_extension": ".py",
   "mimetype": "text/x-python",
   "name": "python",
   "nbconvert_exporter": "python",
   "pygments_lexer": "ipython3",
   "version": "3.11.9"
  }
 },
 "nbformat": 4,
 "nbformat_minor": 2
}
